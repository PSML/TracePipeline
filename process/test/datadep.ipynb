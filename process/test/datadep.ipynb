{
 "cells": [
  {
   "cell_type": "code",
   "execution_count": 1,
   "metadata": {
    "collapsed": false
   },
   "outputs": [],
   "source": [
    "import sys\n",
    "sys.path.append('../')\n",
    "import psml\n",
    "import imp\n",
    "import numpy as np\n",
    "from os import listdir"
   ]
  },
  {
   "cell_type": "code",
   "execution_count": 2,
   "metadata": {
    "collapsed": false
   },
   "outputs": [
    {
     "data": {
      "text/plain": [
       "\"Given a dataset, D, composed of n equally shaped state vector traces, \\nthe 'data dependent bits' are those that vary between invocations of a \\ntraced process, p. For example, if you have three binary traces of shape \\n100x20, D.shape -> 3x100x20. If you sum along the 0th axis, you recover\\na matrix, m, of shape 100x20 with elements in {0, 1, 2, 3}. Where m\\nis 0 or 3, the three traces agreed on their corresponding element, 0 or\\n1 respectively. Where m is 1 or 2, the evolution of a deterministic \\nprocess must have depended on input or exogenous events. These are the \\n'data dependent bits'. This view may be especially interesting for the\\nset of algorithms that don't branch conditionally based on data. In\\nthat case, it's meaningful to compare the ith state across all traces\\nin D.\""
      ]
     },
     "execution_count": 2,
     "metadata": {},
     "output_type": "execute_result"
    }
   ],
   "source": [
    "\"\"\"Given a dataset, D, composed of n equally shaped state vector traces, \n",
    "the 'data dependent bits' are those that vary between invocations of a \n",
    "traced process, p. For example, if you have three binary traces of shape \n",
    "100x20, D.shape -> 3x100x20. If you sum along the 0th axis, you recover\n",
    "a matrix, m, of shape 100x20 with elements in {0, 1, 2, 3}. Where m\n",
    "is 0 or 3, the three traces agreed on their corresponding element, 0 or\n",
    "1 respectively. Where m is 1 or 2, the evolution of a deterministic \n",
    "process must have depended on input or exogenous events. These are the \n",
    "'data dependent bits'. This view may be especially interesting for the\n",
    "set of algorithms that don't branch conditionally based on data. In\n",
    "that case, it's meaningful to compare the ith state across all traces\n",
    "in D.\"\"\""
   ]
  },
  {
   "cell_type": "code",
   "execution_count": 3,
   "metadata": {
    "collapsed": false
   },
   "outputs": [],
   "source": [
    "#List of paths to traces\n",
    "trace_dir = 'traces/'\n",
    "l = [ trace_dir+i for i in listdir(trace_dir) ]\n",
    "#Shorten for testing\n",
    "l = l[:3]\n",
    "\n",
    "#This is only done for mem reduction because we are going to convert\n",
    "#The traces from byte to bit traces at a 8x cost in memory.\n",
    "#The zero mask is a superset of the data dep mask.\n",
    "zero_mask = psml.paths_to_zero_mask(l)"
   ]
  },
  {
   "cell_type": "code",
   "execution_count": 4,
   "metadata": {
    "collapsed": false
   },
   "outputs": [
    {
     "name": "stdout",
     "output_type": "stream",
     "text": [
      "success\n"
     ]
    }
   ],
   "source": [
    "#Sanity check, the zero mask is truly a superset of the excited set, right?\n",
    "excited_mask = psml.paths_to_excited_mask(l)\n",
    "#If a set bit of b is not in a, the rhs will be smaller.\n",
    "assert excited_mask.sum() == (zero_mask & excited_mask).sum()\n",
    "print('success')"
   ]
  },
  {
   "cell_type": "code",
   "execution_count": 5,
   "metadata": {
    "collapsed": false
   },
   "outputs": [
    {
     "data": {
      "text/plain": [
       "(3, 454, 240)"
      ]
     },
     "execution_count": 5,
     "metadata": {},
     "output_type": "execute_result"
    }
   ],
   "source": [
    "#Load byte traces masking with zero mask.\n",
    "trcs = psml.paths_to_svmasked(l, zero_mask)\n",
    "trcs.shape"
   ]
  },
  {
   "cell_type": "code",
   "execution_count": 6,
   "metadata": {
    "collapsed": false
   },
   "outputs": [
    {
     "data": {
      "text/plain": [
       "(3, 454, 1920)"
      ]
     },
     "execution_count": 6,
     "metadata": {},
     "output_type": "execute_result"
    }
   ],
   "source": [
    "#Expand excited byte traces to bit representation\n",
    "trcs = psml.byte_to_bit_sv(trcs)\n",
    "trcs.shape"
   ]
  },
  {
   "cell_type": "code",
   "execution_count": 7,
   "metadata": {
    "collapsed": false
   },
   "outputs": [
    {
     "data": {
      "text/plain": [
       "((1920,), 17)"
      ]
     },
     "execution_count": 7,
     "metadata": {},
     "output_type": "execute_result"
    }
   ],
   "source": [
    "#Generate data dependent mask.\n",
    "datadep_mask = psml.svarr_to_datadep_mask(trcs)\n",
    "datadep_mask.shape, datadep_mask.sum()"
   ]
  },
  {
   "cell_type": "code",
   "execution_count": 8,
   "metadata": {
    "collapsed": false
   },
   "outputs": [
    {
     "data": {
      "text/plain": [
       "(3, 454, 17)"
      ]
     },
     "execution_count": 8,
     "metadata": {},
     "output_type": "execute_result"
    }
   ],
   "source": [
    "#Slice bit traces using data dependent mask.\n",
    "trcs = psml.mask_svarr(trcs, datadep_mask)\n",
    "trcs.shape"
   ]
  },
  {
   "cell_type": "code",
   "execution_count": 9,
   "metadata": {
    "collapsed": false
   },
   "outputs": [
    {
     "data": {
      "image/png": "[encoded data removed]",
      "text/plain": [
       "<PIL.Image.Image image mode=L size=17x454 at 0x10987F668>"
      ]
     },
     "execution_count": 9,
     "metadata": {},
     "output_type": "execute_result"
    }
   ],
   "source": [
    "#Visualize the \n",
    "psml.show_arr(trcs[0])"
   ]
  },
  {
   "cell_type": "code",
   "execution_count": 10,
   "metadata": {
    "collapsed": false
   },
   "outputs": [
    {
     "data": {
      "image/png": "[encoded data removed]",
      "text/plain": [
       "<PIL.Image.Image image mode=L size=17x454 at 0x10E7DADA0>"
      ]
     },
     "execution_count": 10,
     "metadata": {},
     "output_type": "execute_result"
    }
   ],
   "source": [
    "#Sanity check, should have same result if done immediately on trace.\n",
    "#This may fail unless l is restricted to a small set.\n",
    "bt = psml.byte_to_bit_sv(psml.paths_to_tracearr(l))\n",
    "dm = psml.svarr_to_datadep_mask(bt)\n",
    "dbt = psml.mask_svarr(bt, dm)\n",
    "psml.show_arr(dbt[0])"
   ]
  },
  {
   "cell_type": "code",
   "execution_count": 11,
   "metadata": {
    "collapsed": false
   },
   "outputs": [
    {
     "name": "stdout",
     "output_type": "stream",
     "text": [
      "success\n"
     ]
    }
   ],
   "source": [
    "assert np.array_equal(trcs[0], dbt[0])\n",
    "print(\"success\")"
   ]
  },
  {
   "cell_type": "code",
   "execution_count": null,
   "metadata": {
    "collapsed": false
   },
   "outputs": [],
   "source": []
  },
  {
   "cell_type": "code",
   "execution_count": null,
   "metadata": {
    "collapsed": false
   },
   "outputs": [],
   "source": []
  },
  {
   "cell_type": "code",
   "execution_count": null,
   "metadata": {
    "collapsed": true
   },
   "outputs": [],
   "source": []
  }
 ],
 "metadata": {
  "kernelspec": {
   "display_name": "Python 3",
   "language": "python",
   "name": "python3"
  },
  "language_info": {
   "codemirror_mode": {
    "name": "ipython",
    "version": 3
   },
   "file_extension": ".py",
   "mimetype": "text/x-python",
   "name": "python",
   "nbconvert_exporter": "python",
   "pygments_lexer": "ipython3",
   "version": "3.5.1"
  }
 },
 "nbformat": 4,
 "nbformat_minor": 0
}
