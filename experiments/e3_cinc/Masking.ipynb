{
 "cells": [
  {
   "cell_type": "code",
   "execution_count": 2,
   "metadata": {
    "collapsed": false
   },
   "outputs": [],
   "source": [
    "from PIL import Image\n",
    "import numpy as np\n",
    "import glob\n",
    "import pandas as pd\n",
    "import copy\n",
    "from scipy import misc\n",
    "from os import path"
   ]
  },
  {
   "cell_type": "code",
   "execution_count": 3,
   "metadata": {
    "collapsed": false
   },
   "outputs": [
    {
     "data": {
      "text/plain": [
       "'Description'"
      ]
     },
     "execution_count": 3,
     "metadata": {},
     "output_type": "execute_result"
    }
   ],
   "source": [
    "'''Description'''"
   ]
  },
  {
   "cell_type": "code",
   "execution_count": 4,
   "metadata": {
    "collapsed": true
   },
   "outputs": [],
   "source": [
    "#For coloring images.\n",
    "grey = 225"
   ]
  },
  {
   "cell_type": "code",
   "execution_count": 6,
   "metadata": {
    "collapsed": false
   },
   "outputs": [
    {
     "data": {
      "text/plain": [
       "[]"
      ]
     },
     "execution_count": 6,
     "metadata": {},
     "output_type": "execute_result"
    }
   ],
   "source": [
    "#All of the traces.\n",
    "image_list = []\n",
    "#Training labels, taken from file names.\n",
    "labels = []\n",
    "\n",
    "#Get images as 2d arrays as well as labels.\n",
    "for filename in glob.glob('../../datasources/stub_data/exp3IncPngs/*.png'):\n",
    "    im=misc.imread(filename, flatten=True)\n",
    "    image_list.append(np.array(im)/255)\n",
    "    labels.append(int(path.basename(filename)[0]))\n",
    "labels\n",
    "#Turn list of nparrays to 3d nparray.\n",
    "# image_list = np.array(image_list)\n",
    "# labels = np.array(labels)"
   ]
  },
  {
   "cell_type": "code",
   "execution_count": 37,
   "metadata": {
    "collapsed": false
   },
   "outputs": [
    {
     "name": "stdout",
     "output_type": "stream",
     "text": [
      "whole trace: 25280 pix\n",
      "mask size:  486 pix\n"
     ]
    }
   ],
   "source": [
    "#Sum all images into one mask.\n",
    "image_list_sum = image_list.sum(axis=0)\n",
    "\n",
    "#Regions that differ dept. on run of algorithm. Non 0 and Non len(image_list) elements.\n",
    "mask = (image_list_sum > 0) & (image_list_sum < image_list.shape[0])\n",
    "\n",
    "# print(\"whole trace: %d pix\" % mask.shape[0]*mask.shape[1])\n",
    "#, \"upper bound on bits that matter\", mask.sum())\n",
    "\n",
    "print('whole trace:', mask.shape[0]*mask.shape[1], 'pix')\n",
    "print('mask size: ', mask.sum(), 'pix')"
   ]
  },
  {
   "cell_type": "code",
   "execution_count": 38,
   "metadata": {
    "collapsed": false
   },
   "outputs": [],
   "source": [
    "#Convert zeros to nan. Will be used for dimension reduction later.\n",
    "mask = mask.astype(float)\n",
    "mask[mask==0] = np.nan"
   ]
  },
  {
   "cell_type": "code",
   "execution_count": 39,
   "metadata": {
    "collapsed": false
   },
   "outputs": [
    {
     "data": {
      "image/png": "[encoded data removed]",
      "text/plain": [
       "<PIL.Image.Image image mode=L size=64x395 at 0x1075BCD30>"
      ]
     },
     "execution_count": 39,
     "metadata": {},
     "output_type": "execute_result"
    }
   ],
   "source": [
    "#Look at mask.\n",
    "Image.fromarray(grey*np.uint8(mask))"
   ]
  },
  {
   "cell_type": "code",
   "execution_count": 40,
   "metadata": {
    "collapsed": false
   },
   "outputs": [],
   "source": [
    "#Make 2 new copies of the traces. \n",
    "#One is for the masked area\n",
    "masked = copy.deepcopy(image_list)\n",
    "\n",
    "#One is for the complement of the masked area\n",
    "comp_masked = copy.deepcopy(image_list)"
   ]
  },
  {
   "cell_type": "code",
   "execution_count": 41,
   "metadata": {
    "collapsed": false
   },
   "outputs": [],
   "source": [
    "#Apply mask to every element\n",
    "for i in range(len(masked)):\n",
    "    masked[i] = masked[i] * mask\n",
    "\n",
    "#Invert mask\n",
    "mask[mask==1] = 0\n",
    "mask[np.isnan(mask)] = 1\n",
    "mask[mask==0] = np.nan\n",
    "\n",
    "#Apply \n",
    "for i in range(len(comp_masked)):\n",
    "    comp_masked[i] = comp_masked[i] * mask"
   ]
  },
  {
   "cell_type": "code",
   "execution_count": 42,
   "metadata": {
    "collapsed": false
   },
   "outputs": [
    {
     "data": {
      "image/png": "[encoded data removed]",
      "text/plain": [
       "<PIL.Image.Image image mode=L size=64x395 at 0x11194CA90>"
      ]
     },
     "execution_count": 42,
     "metadata": {},
     "output_type": "execute_result"
    }
   ],
   "source": [
    "#Before mask.\n",
    "Image.fromarray(grey*np.uint8(image_list[0]))"
   ]
  },
  {
   "cell_type": "code",
   "execution_count": 43,
   "metadata": {
    "collapsed": false
   },
   "outputs": [
    {
     "data": {
      "image/png": "[encoded data removed]",
      "text/plain": [
       "<PIL.Image.Image image mode=L size=64x395 at 0x11194C080>"
      ]
     },
     "execution_count": 43,
     "metadata": {},
     "output_type": "execute_result"
    }
   ],
   "source": [
    "#After mask\n",
    "Image.fromarray(grey*np.uint8(masked[0]))"
   ]
  },
  {
   "cell_type": "code",
   "execution_count": 44,
   "metadata": {
    "collapsed": false
   },
   "outputs": [
    {
     "data": {
      "image/png": "[encoded data removed]",
      "text/plain": [
       "<PIL.Image.Image image mode=L size=64x395 at 0x11194C128>"
      ]
     },
     "execution_count": 44,
     "metadata": {},
     "output_type": "execute_result"
    }
   ],
   "source": [
    "#Comp mask\n",
    "Image.fromarray(grey*np.uint8(comp_masked[0]))"
   ]
  },
  {
   "cell_type": "code",
   "execution_count": 45,
   "metadata": {
    "collapsed": false
   },
   "outputs": [],
   "source": [
    "#Show 3 attempts at classification: baseline, with masked region, and complement of masked region."
   ]
  },
  {
   "cell_type": "code",
   "execution_count": 46,
   "metadata": {
    "collapsed": true
   },
   "outputs": [],
   "source": [
    "#The classifier\n",
    "from sklearn import svm, cross_validation\n",
    "clf = svm.SVC(cache_size=7000)"
   ]
  },
  {
   "cell_type": "code",
   "execution_count": 16,
   "metadata": {
    "collapsed": false
   },
   "outputs": [
    {
     "name": "stdout",
     "output_type": "stream",
     "text": [
      "[ 0.98584906  0.99292453  1.          1.        ]\n",
      "Accuracy: 0.9947 (+/- 0.01)\n"
     ]
    }
   ],
   "source": [
    "#1\n",
    "#Train baseline classifier on whole trace. >25k pix.\n",
    "#Takes a few mins, should nearly perfectly separate.\n",
    "\n",
    "#Flatten images to 1d\n",
    "image_list = image_list.reshape(image_list.shape[0], -1)\n",
    "\n",
    "#Run model\n",
    "scores = cross_validation.cross_val_score(clf, image_list, labels, cv=4, n_jobs=4)\n",
    "print(scores)\n",
    "print(\"Accuracy: %0.4f (+/- %0.2f)\" % (scores.mean(), scores.std() * 2))"
   ]
  },
  {
   "cell_type": "code",
   "execution_count": 17,
   "metadata": {
    "collapsed": false
   },
   "outputs": [
    {
     "name": "stdout",
     "output_type": "stream",
     "text": [
      "[ 1.  1.  1.  1.]\n",
      "Accuracy: 1.0000 (+/- 0.00)\n"
     ]
    }
   ],
   "source": [
    "#2\n",
    "#Uses only the ~500 pixels that change between executions of program, way faster.\n",
    "#Should have all the information as above. Should nearly perfectly separate.\n",
    "num_traces = masked.shape[0]\n",
    "masked = masked[~np.isnan(masked)].reshape(num_traces, -1)\n",
    "\n",
    "scores = cross_validation.cross_val_score(clf, masked, labels, cv=4, n_jobs=8)\n",
    "print(scores)\n",
    "print(\"Accuracy: %0.4f (+/- %0.2f)\" % (scores.mean(), scores.std() * 2))"
   ]
  },
  {
   "cell_type": "code",
   "execution_count": 49,
   "metadata": {
    "collapsed": false
   },
   "outputs": [
    {
     "name": "stdout",
     "output_type": "stream",
     "text": [
      "[ 0.125  0.125  0.125  0.125]\n",
      "Accuracy: 0.1250 (+/- 0.00)\n"
     ]
    }
   ],
   "source": [
    "#3\n",
    "#Uses complement of mask. This set of pix should contain no info!\n",
    "#Doing this for completeness. This is expected to fail! \n",
    "num_traces = comp_masked.shape[0]\n",
    "comp_masked = comp_masked[~np.isnan(comp_masked)].reshape(num_traces, -1)\n",
    "scores = cross_validation.cross_val_score(clf, comp_masked, labels, cv=4, n_jobs=8)\n",
    "print(scores)\n",
    "print(\"Accuracy: %0.4f (+/- %0.2f)\" % (scores.mean(), scores.std() * 2))"
   ]
  }
 ],
 "metadata": {
  "kernelspec": {
   "display_name": "Python 3",
   "language": "python",
   "name": "python3"
  },
  "language_info": {
   "codemirror_mode": {
    "name": "ipython",
    "version": 3
   },
   "file_extension": ".py",
   "mimetype": "text/x-python",
   "name": "python",
   "nbconvert_exporter": "python",
   "pygments_lexer": "ipython3",
   "version": "3.5.1"
  }
 },
 "nbformat": 4,
 "nbformat_minor": 0
}
