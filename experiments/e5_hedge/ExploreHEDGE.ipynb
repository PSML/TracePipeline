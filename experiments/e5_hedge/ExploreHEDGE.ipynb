{
 "cells": [
  {
   "cell_type": "code",
   "execution_count": 11,
   "metadata": {
    "collapsed": false
   },
   "outputs": [
    {
     "name": "stdout",
     "output_type": "stream",
     "text": [
      "Using matplotlib backend: MacOSX\n",
      "Starting with 96320 examples and 22 features.\n"
     ]
    }
   ],
   "source": [
    "#%matplotlib inline\n",
    "import numpy as np\n",
    "import pandas as pd\n",
    "import seaborn as sns\n",
    "from scipy import stats\n",
    "import matplotlib as mpl\n",
    "import matplotlib.pyplot as plt\n",
    "sns.set(style=\"ticks\")\n",
    "np.random.seed(sum(map(ord, \"axis_grids\")))\n",
    "%matplotlib\n",
    "#Import cranial database \n",
    "df = pd.read_csv('/Users/tu/Desktop/numerai_training_data.csv')\n",
    "#Shrink for playing with \n",
    "#df = df.sample(frac=0.1)\n",
    "#df = df.head(10000)\n",
    "rows, cols = df.shape \n",
    "print(\"Starting with\", rows, \"examples and\", cols, \"features.\")\n"
   ]
  },
  {
   "cell_type": "code",
   "execution_count": 12,
   "metadata": {
    "collapsed": false,
    "scrolled": true
   },
   "outputs": [
    {
     "name": "stdout",
     "output_type": "stream",
     "text": [
      "Our targets.\n"
     ]
    },
    {
     "data": {
      "text/plain": [
       "1    48658\n",
       "0    47662\n",
       "Name: target, dtype: int64"
      ]
     },
     "execution_count": 12,
     "metadata": {},
     "output_type": "execute_result"
    }
   ],
   "source": [
    "#Consider our target col, Sex.\n",
    "print(\"Our targets.\")\n",
    "df['target'].value_counts(dropna=False)"
   ]
  },
  {
   "cell_type": "code",
   "execution_count": 13,
   "metadata": {
    "collapsed": false
   },
   "outputs": [
    {
     "data": {
      "text/html": [
       "<div>\n",
       "<table border=\"1\" class=\"dataframe\">\n",
       "  <thead>\n",
       "    <tr style=\"text-align: right;\">\n",
       "      <th></th>\n",
       "      <th>feature1</th>\n",
       "      <th>feature2</th>\n",
       "      <th>feature3</th>\n",
       "      <th>feature4</th>\n",
       "      <th>feature5</th>\n",
       "      <th>feature6</th>\n",
       "      <th>feature7</th>\n",
       "      <th>feature8</th>\n",
       "      <th>feature9</th>\n",
       "      <th>feature10</th>\n",
       "      <th>...</th>\n",
       "      <th>feature13</th>\n",
       "      <th>feature14</th>\n",
       "      <th>feature15</th>\n",
       "      <th>feature16</th>\n",
       "      <th>feature17</th>\n",
       "      <th>feature18</th>\n",
       "      <th>feature19</th>\n",
       "      <th>feature20</th>\n",
       "      <th>feature21</th>\n",
       "      <th>target</th>\n",
       "    </tr>\n",
       "  </thead>\n",
       "  <tbody>\n",
       "    <tr>\n",
       "      <th>count</th>\n",
       "      <td>96320.000000</td>\n",
       "      <td>96320.000000</td>\n",
       "      <td>96320.000000</td>\n",
       "      <td>96320.000000</td>\n",
       "      <td>96320.000000</td>\n",
       "      <td>96320.000000</td>\n",
       "      <td>96320.000000</td>\n",
       "      <td>96320.000000</td>\n",
       "      <td>96320.000000</td>\n",
       "      <td>96320.000000</td>\n",
       "      <td>...</td>\n",
       "      <td>96320.000000</td>\n",
       "      <td>96320.000000</td>\n",
       "      <td>96320.000000</td>\n",
       "      <td>96320.000000</td>\n",
       "      <td>96320.000000</td>\n",
       "      <td>96320.000000</td>\n",
       "      <td>96320.000000</td>\n",
       "      <td>96320.000000</td>\n",
       "      <td>96320.000000</td>\n",
       "      <td>96320.000000</td>\n",
       "    </tr>\n",
       "    <tr>\n",
       "      <th>mean</th>\n",
       "      <td>0.496373</td>\n",
       "      <td>0.504259</td>\n",
       "      <td>0.501666</td>\n",
       "      <td>0.524786</td>\n",
       "      <td>0.490863</td>\n",
       "      <td>0.501273</td>\n",
       "      <td>0.493159</td>\n",
       "      <td>0.499751</td>\n",
       "      <td>0.496717</td>\n",
       "      <td>0.491630</td>\n",
       "      <td>...</td>\n",
       "      <td>0.508766</td>\n",
       "      <td>0.492257</td>\n",
       "      <td>0.517832</td>\n",
       "      <td>0.534597</td>\n",
       "      <td>0.487590</td>\n",
       "      <td>0.512325</td>\n",
       "      <td>0.496481</td>\n",
       "      <td>0.496335</td>\n",
       "      <td>0.506706</td>\n",
       "      <td>0.505170</td>\n",
       "    </tr>\n",
       "    <tr>\n",
       "      <th>std</th>\n",
       "      <td>0.287750</td>\n",
       "      <td>0.290088</td>\n",
       "      <td>0.293470</td>\n",
       "      <td>0.289750</td>\n",
       "      <td>0.292738</td>\n",
       "      <td>0.287146</td>\n",
       "      <td>0.284012</td>\n",
       "      <td>0.286047</td>\n",
       "      <td>0.292820</td>\n",
       "      <td>0.281328</td>\n",
       "      <td>...</td>\n",
       "      <td>0.292084</td>\n",
       "      <td>0.290259</td>\n",
       "      <td>0.282660</td>\n",
       "      <td>0.292519</td>\n",
       "      <td>0.288113</td>\n",
       "      <td>0.289635</td>\n",
       "      <td>0.292573</td>\n",
       "      <td>0.286520</td>\n",
       "      <td>0.293346</td>\n",
       "      <td>0.499976</td>\n",
       "    </tr>\n",
       "    <tr>\n",
       "      <th>min</th>\n",
       "      <td>0.000000</td>\n",
       "      <td>0.000000</td>\n",
       "      <td>0.000191</td>\n",
       "      <td>0.000000</td>\n",
       "      <td>0.000810</td>\n",
       "      <td>0.000000</td>\n",
       "      <td>0.000063</td>\n",
       "      <td>0.000000</td>\n",
       "      <td>0.000000</td>\n",
       "      <td>0.000034</td>\n",
       "      <td>...</td>\n",
       "      <td>0.000035</td>\n",
       "      <td>0.000000</td>\n",
       "      <td>0.000000</td>\n",
       "      <td>0.000114</td>\n",
       "      <td>0.000000</td>\n",
       "      <td>0.000000</td>\n",
       "      <td>0.000000</td>\n",
       "      <td>0.000000</td>\n",
       "      <td>0.000000</td>\n",
       "      <td>0.000000</td>\n",
       "    </tr>\n",
       "    <tr>\n",
       "      <th>25%</th>\n",
       "      <td>0.254052</td>\n",
       "      <td>0.263065</td>\n",
       "      <td>0.247832</td>\n",
       "      <td>0.276403</td>\n",
       "      <td>0.227328</td>\n",
       "      <td>0.244739</td>\n",
       "      <td>0.252745</td>\n",
       "      <td>0.261559</td>\n",
       "      <td>0.240044</td>\n",
       "      <td>0.254334</td>\n",
       "      <td>...</td>\n",
       "      <td>0.266493</td>\n",
       "      <td>0.243085</td>\n",
       "      <td>0.281033</td>\n",
       "      <td>0.289773</td>\n",
       "      <td>0.242859</td>\n",
       "      <td>0.263774</td>\n",
       "      <td>0.242519</td>\n",
       "      <td>0.249704</td>\n",
       "      <td>0.235558</td>\n",
       "      <td>0.000000</td>\n",
       "    </tr>\n",
       "    <tr>\n",
       "      <th>50%</th>\n",
       "      <td>0.483015</td>\n",
       "      <td>0.494001</td>\n",
       "      <td>0.510760</td>\n",
       "      <td>0.537045</td>\n",
       "      <td>0.495392</td>\n",
       "      <td>0.505608</td>\n",
       "      <td>0.487354</td>\n",
       "      <td>0.490177</td>\n",
       "      <td>0.497191</td>\n",
       "      <td>0.476783</td>\n",
       "      <td>...</td>\n",
       "      <td>0.504100</td>\n",
       "      <td>0.494043</td>\n",
       "      <td>0.525739</td>\n",
       "      <td>0.560189</td>\n",
       "      <td>0.489725</td>\n",
       "      <td>0.510049</td>\n",
       "      <td>0.493695</td>\n",
       "      <td>0.505668</td>\n",
       "      <td>0.512987</td>\n",
       "      <td>1.000000</td>\n",
       "    </tr>\n",
       "    <tr>\n",
       "      <th>75%</th>\n",
       "      <td>0.748338</td>\n",
       "      <td>0.768643</td>\n",
       "      <td>0.758521</td>\n",
       "      <td>0.777407</td>\n",
       "      <td>0.743655</td>\n",
       "      <td>0.743769</td>\n",
       "      <td>0.739014</td>\n",
       "      <td>0.748659</td>\n",
       "      <td>0.751543</td>\n",
       "      <td>0.730126</td>\n",
       "      <td>...</td>\n",
       "      <td>0.778901</td>\n",
       "      <td>0.752855</td>\n",
       "      <td>0.760254</td>\n",
       "      <td>0.793589</td>\n",
       "      <td>0.741703</td>\n",
       "      <td>0.755116</td>\n",
       "      <td>0.749091</td>\n",
       "      <td>0.745774</td>\n",
       "      <td>0.766469</td>\n",
       "      <td>1.000000</td>\n",
       "    </tr>\n",
       "    <tr>\n",
       "      <th>max</th>\n",
       "      <td>1.000000</td>\n",
       "      <td>1.000000</td>\n",
       "      <td>1.000000</td>\n",
       "      <td>1.000000</td>\n",
       "      <td>1.000000</td>\n",
       "      <td>1.000000</td>\n",
       "      <td>1.000000</td>\n",
       "      <td>1.000000</td>\n",
       "      <td>1.000000</td>\n",
       "      <td>1.000000</td>\n",
       "      <td>...</td>\n",
       "      <td>1.000000</td>\n",
       "      <td>1.000000</td>\n",
       "      <td>1.000000</td>\n",
       "      <td>1.000000</td>\n",
       "      <td>1.000000</td>\n",
       "      <td>1.000000</td>\n",
       "      <td>1.000000</td>\n",
       "      <td>1.000000</td>\n",
       "      <td>1.000000</td>\n",
       "      <td>1.000000</td>\n",
       "    </tr>\n",
       "  </tbody>\n",
       "</table>\n",
       "<p>8 rows × 22 columns</p>\n",
       "</div>"
      ],
      "text/plain": [
       "           feature1      feature2      feature3      feature4      feature5  \\\n",
       "count  96320.000000  96320.000000  96320.000000  96320.000000  96320.000000   \n",
       "mean       0.496373      0.504259      0.501666      0.524786      0.490863   \n",
       "std        0.287750      0.290088      0.293470      0.289750      0.292738   \n",
       "min        0.000000      0.000000      0.000191      0.000000      0.000810   \n",
       "25%        0.254052      0.263065      0.247832      0.276403      0.227328   \n",
       "50%        0.483015      0.494001      0.510760      0.537045      0.495392   \n",
       "75%        0.748338      0.768643      0.758521      0.777407      0.743655   \n",
       "max        1.000000      1.000000      1.000000      1.000000      1.000000   \n",
       "\n",
       "           feature6      feature7      feature8      feature9     feature10  \\\n",
       "count  96320.000000  96320.000000  96320.000000  96320.000000  96320.000000   \n",
       "mean       0.501273      0.493159      0.499751      0.496717      0.491630   \n",
       "std        0.287146      0.284012      0.286047      0.292820      0.281328   \n",
       "min        0.000000      0.000063      0.000000      0.000000      0.000034   \n",
       "25%        0.244739      0.252745      0.261559      0.240044      0.254334   \n",
       "50%        0.505608      0.487354      0.490177      0.497191      0.476783   \n",
       "75%        0.743769      0.739014      0.748659      0.751543      0.730126   \n",
       "max        1.000000      1.000000      1.000000      1.000000      1.000000   \n",
       "\n",
       "           ...          feature13     feature14     feature15     feature16  \\\n",
       "count      ...       96320.000000  96320.000000  96320.000000  96320.000000   \n",
       "mean       ...           0.508766      0.492257      0.517832      0.534597   \n",
       "std        ...           0.292084      0.290259      0.282660      0.292519   \n",
       "min        ...           0.000035      0.000000      0.000000      0.000114   \n",
       "25%        ...           0.266493      0.243085      0.281033      0.289773   \n",
       "50%        ...           0.504100      0.494043      0.525739      0.560189   \n",
       "75%        ...           0.778901      0.752855      0.760254      0.793589   \n",
       "max        ...           1.000000      1.000000      1.000000      1.000000   \n",
       "\n",
       "          feature17     feature18     feature19     feature20     feature21  \\\n",
       "count  96320.000000  96320.000000  96320.000000  96320.000000  96320.000000   \n",
       "mean       0.487590      0.512325      0.496481      0.496335      0.506706   \n",
       "std        0.288113      0.289635      0.292573      0.286520      0.293346   \n",
       "min        0.000000      0.000000      0.000000      0.000000      0.000000   \n",
       "25%        0.242859      0.263774      0.242519      0.249704      0.235558   \n",
       "50%        0.489725      0.510049      0.493695      0.505668      0.512987   \n",
       "75%        0.741703      0.755116      0.749091      0.745774      0.766469   \n",
       "max        1.000000      1.000000      1.000000      1.000000      1.000000   \n",
       "\n",
       "             target  \n",
       "count  96320.000000  \n",
       "mean       0.505170  \n",
       "std        0.499976  \n",
       "min        0.000000  \n",
       "25%        0.000000  \n",
       "50%        1.000000  \n",
       "75%        1.000000  \n",
       "max        1.000000  \n",
       "\n",
       "[8 rows x 22 columns]"
      ]
     },
     "execution_count": 13,
     "metadata": {},
     "output_type": "execute_result"
    }
   ],
   "source": [
    "#High level \n",
    "df.describe()\n"
   ]
  },
  {
   "cell_type": "code",
   "execution_count": 14,
   "metadata": {
    "collapsed": false
   },
   "outputs": [],
   "source": [
    "#t = df.sample(frac=0.001)\n",
    "# cols = list(t.columns.values)\n",
    "# g = sns.PairGrid(t, hue=\"target\", vars=cols[0:6])\n",
    "# g.map_diag(plt.hist)\n",
    "# g.map_offdiag(plt.scatter)\n",
    "# g.add_legend();"
   ]
  },
  {
   "cell_type": "code",
   "execution_count": 15,
   "metadata": {
    "collapsed": false
   },
   "outputs": [
    {
     "data": {
      "text/plain": [
       "(28896, 22)"
      ]
     },
     "execution_count": 15,
     "metadata": {},
     "output_type": "execute_result"
    }
   ],
   "source": [
    "df.shape\n",
    "df = df.sample(frac=0.3)\n",
    "df.shape"
   ]
  },
  {
   "cell_type": "code",
   "execution_count": 16,
   "metadata": {
    "collapsed": false
   },
   "outputs": [],
   "source": [
    "X = df.ix[:,0:21].as_matrix()"
   ]
  },
  {
   "cell_type": "code",
   "execution_count": 17,
   "metadata": {
    "collapsed": false
   },
   "outputs": [],
   "source": [
    "y = df.ix[:,-1].as_matrix()\n"
   ]
  },
  {
   "cell_type": "code",
   "execution_count": 18,
   "metadata": {
    "collapsed": false
   },
   "outputs": [
    {
     "name": "stdout",
     "output_type": "stream",
     "text": [
      "42.62394189834595\n"
     ]
    }
   ],
   "source": [
    "from sklearn import svm\n",
    "import time\n",
    "\n",
    "t0 = time.time()\n",
    "clf = svm.SVC(cache_size=1)\n",
    "clf.fit(X, y)  \n",
    "t1 = time.time()\n",
    "\n",
    "print(t1-t0)\n"
   ]
  },
  {
   "cell_type": "code",
   "execution_count": null,
   "metadata": {
    "collapsed": false
   },
   "outputs": [],
   "source": []
  },
  {
   "cell_type": "code",
   "execution_count": null,
   "metadata": {
    "collapsed": true
   },
   "outputs": [],
   "source": []
  }
 ],
 "metadata": {
  "kernelspec": {
   "display_name": "Python 3",
   "language": "python",
   "name": "python3"
  },
  "language_info": {
   "codemirror_mode": {
    "name": "ipython",
    "version": 3
   },
   "file_extension": ".py",
   "mimetype": "text/x-python",
   "name": "python",
   "nbconvert_exporter": "python",
   "pygments_lexer": "ipython3",
   "version": "3.4.3"
  }
 },
 "nbformat": 4,
 "nbformat_minor": 0
}
