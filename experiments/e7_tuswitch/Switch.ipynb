{
 "cells": [
  {
   "cell_type": "code",
   "execution_count": 2,
   "metadata": {
    "collapsed": false
   },
   "outputs": [],
   "source": [
    "import numpy as np\n",
    "import re"
   ]
  },
  {
   "cell_type": "code",
   "execution_count": 3,
   "metadata": {
    "collapsed": false
   },
   "outputs": [
    {
     "data": {
      "text/plain": [
       "'Parity game.'"
      ]
     },
     "execution_count": 3,
     "metadata": {},
     "output_type": "execute_result"
    }
   ],
   "source": [
    "'''Parity game.'''"
   ]
  },
  {
   "cell_type": "code",
   "execution_count": 4,
   "metadata": {
    "collapsed": false
   },
   "outputs": [
    {
     "data": {
      "text/plain": [
       "array(['V', 'V', 'E', 'Z', 'E', 'E', 'V', 'V', 'Z', 'Z', 'P', 'P', 'P',\n",
       "       'P', 'V', 'Z', 'P', 'E', 'Z', 'E', 'P', 'E', 'E', 'P', 'Z', 'V',\n",
       "       'E', 'V', 'V', 'P', 'E', 'Z', 'P', 'E', 'Z', 'V', 'P', 'E', 'Z',\n",
       "       'V', 'E', 'P', 'V', 'E', 'Z', 'V', 'E', 'E', 'P', 'Z', 'E', 'V',\n",
       "       'P', 'V', 'P', 'V', 'P', 'P', 'Z', 'P', 'E', 'Z', 'P', 'E', 'E',\n",
       "       'P', 'Z', 'Z', 'P', 'E', 'Z', 'E', 'P', 'E', 'P', 'P', 'Z', 'V',\n",
       "       'Z', 'E', 'P', 'E', 'Z', 'V', 'P', 'P', 'P', 'V', 'Z', 'E', 'P',\n",
       "       'P', 'P', 'P', 'P', 'P', 'E', 'E', 'P', 'E', 'Q'], \n",
       "      dtype='<U1')"
      ]
     },
     "execution_count": 4,
     "metadata": {},
     "output_type": "execute_result"
    }
   ],
   "source": [
    "#Moves in the game.\n",
    "input_set = ['E', 'V', 'P', 'Z']\n",
    "num_moves = 100\n",
    "input_dir = 'inputs/'\n",
    "\n",
    "#Probability each move respectively.\n",
    "#Collection of random numbers\n",
    "r = np.random.rand(len(input_set))\n",
    "#Normalize\n",
    "p = r / sum(r)\n",
    "\n",
    "#Example\n",
    "np.append(np.random.choice(input_set, num_moves, p=p), ['Q'] , axis=0)"
   ]
  },
  {
   "cell_type": "code",
   "execution_count": 5,
   "metadata": {
    "collapsed": false
   },
   "outputs": [],
   "source": [
    "#Make the dir\n",
    "!mkdir -p {input_dir}"
   ]
  },
  {
   "cell_type": "code",
   "execution_count": 6,
   "metadata": {
    "collapsed": false
   },
   "outputs": [
    {
     "name": "stdout",
     "output_type": "stream",
     "text": [
      "../../datasources/6502/ext/install/bin/cc65 -D__6502__ -t none -O -Oi --cpu 6502 jaswitch-6502-cc65.c\n",
      "../../datasources/6502/ext/install/bin/ca65 --cpu 6502 jaswitch-6502-cc65.s -l jaswitch-6502-cc65.lst\n",
      "../../datasources/6502/ext/install/bin/ld65 -o jaswitch-6502-cc65 -C ../../datasources/6502/apps/cc/apps/bu6502.cfg  jaswitch-6502-cc65.o ../../datasources/6502/apps/cc/apps/bu6502.lib   -m jaswitch-6502-cc65.map\n",
      "[ -d 'backup' ] || mkdir backup\n",
      "mv *.lst *.map *.s backup\n",
      "[ -d 'images' ] || mkdir 'images'\n",
      "mv jaswitch-6502-cc65 jaswitch-6502-cc65.img\n",
      "mv *.img 'images'\n",
      "rm jaswitch-6502-cc65.o\n"
     ]
    }
   ],
   "source": [
    "!make"
   ]
  },
  {
   "cell_type": "code",
   "execution_count": 8,
   "metadata": {
    "collapsed": false
   },
   "outputs": [],
   "source": [
    "#Generate input files.\n",
    "for i in range(3):\n",
    "    r = np.random.rand(len(input_set))\n",
    "    #Normalize\n",
    "    p = r / sum(r)\n",
    "    #Stringify list of moves.\n",
    "    moves = np.array_str(np.append(np.random.choice(input_set, num_moves, p=p), ['Q'] , axis=0))\n",
    "    #Remove formatting, clean this up.\n",
    "    moves = moves.replace('\\'', '').replace('[', '').replace(']', '').replace(' ', '').replace('\\n', '')\n",
    "    file_name = \"E:%.2f_V:%.2f_P:%.2f_Z:%.2f_switch\" % (tuple(p))\n",
    "    text_file = open(input_dir + file_name, \"w\")\n",
    "    text_file.write(moves)\n",
    "    text_file.close()"
   ]
  },
  {
   "cell_type": "code",
   "execution_count": 9,
   "metadata": {
    "collapsed": false
   },
   "outputs": [
    {
     "name": "stdout",
     "output_type": "stream",
     "text": [
      "EVEN\n",
      "ODD\n",
      "EVEN\n",
      "0\n",
      "ODD\n",
      "2\n",
      "ODD\n",
      "EVEN\n",
      "0\n",
      "ODD\n",
      "2\n",
      "EVEN\n",
      "ODDEV\n",
      "EN\n",
      "EVEN\n",
      "3\n",
      "7ODD\n",
      "\n",
      "0ODED\n",
      "VEN\n",
      "\n",
      "ODD\n",
      "ODD\n",
      "40\n",
      "\n",
      "EVEN\n",
      "9\n",
      "4\n",
      "0\n",
      "14\n",
      "EVE\n",
      "N\n",
      "EVEN\n",
      "01\n",
      "\n",
      "6EVEVEN\n",
      "EN\n",
      "\n",
      "EVEN\n",
      "0\n",
      "8\n",
      "0\n",
      "EVEN\n",
      "E0VEN\n",
      "\n",
      "0\n",
      "0\n",
      "3EVEN\n",
      "\n",
      "ODD\n",
      "EVEN\n",
      "0EVEN\n",
      "E\n",
      "VEN\n",
      "4\n",
      "07\n",
      "\n",
      "EVEN\n",
      "EVEN\n",
      "EVEN\n",
      "EVENO\n",
      "DD\n",
      "0\n",
      "0\n",
      "0\n",
      "0\n",
      "ODD\n",
      "ODD\n",
      "0EV\n",
      "EN\n",
      "ODD\n",
      "EVEN\n",
      "EVEN\n",
      "ODD\n",
      "ODD\n",
      "0\n",
      "EVEN\n",
      "23\n",
      "\n",
      "ODD\n",
      "03\n",
      "\n",
      "EVEN\n",
      "4EVE\n",
      "N\n",
      "1\n",
      "08\n",
      "\n",
      "ODD\n",
      "2\n",
      "EVE0N\n",
      "\n",
      "11\n",
      "2\n",
      "0\n",
      "ODD\n",
      "EVEN\n",
      "2\n",
      "EVEN\n",
      "EVEN\n",
      "17EVEN\n",
      "\n",
      "0\n",
      "1\n",
      "018\n",
      "\n",
      "EVEN\n",
      "EVEN\n",
      "EEVEVEN\n",
      "N\n",
      "EVEN\n",
      "EVEEVN\n",
      "EN\n",
      "EVENEVE\n",
      "N\n",
      "18\n",
      "10\n",
      "\n",
      "EVEN\n",
      "ODD\n",
      "19EVEN\n",
      "\n",
      "EVEN\n",
      "EVEN\n",
      "EVEN\n",
      "EVEN\n",
      "EVEN\n",
      "EVEN\n",
      "EVEN\n",
      "20\n",
      "EVEN\n",
      "20\n",
      "EVEN\n",
      "EVEN\n",
      "EVEN\n",
      "ODD\n",
      "EVEN\n",
      "ODD\n",
      "ODD\n",
      "0ODD\n",
      "\n",
      "EVEN\n",
      "ODD\n",
      "0\n",
      "ODD\n",
      "EVEN\n",
      "EVEN\n",
      "1\n",
      "0\n",
      "1EVEN\n",
      "\n",
      "EVEN\n",
      "EVEN\n",
      "EVEN\n",
      "EVEN\n",
      "EVEN\n",
      "0\n",
      "EVEN\n",
      "EVEN\n"
     ]
    }
   ],
   "source": [
    "%%bash\n",
    "#Generate traces using image and inputs.\n",
    "#Is it safe to background em?\n",
    "mkdir -p traces\n",
    "for i in $(ls inputs) \n",
    "    do\n",
    "    ../../datasources/6502/6502 -t sv -o traces/$i.trc images/jaswitch-6502-cc65.img < inputs/$i /dev/null 2> /dev/null &\n",
    "done"
   ]
  },
  {
   "cell_type": "code",
   "execution_count": 22,
   "metadata": {
    "collapsed": true
   },
   "outputs": [],
   "source": [
    "#Generate excited bit masks for all\n",
    "#Load in ith trace, slice out excited portion, stack. \n",
    "trc = np.fromfile('traces/E:0.01_V:0.21_P:0.35_Z:0.43_switch.trc', dtype='uint8')"
   ]
  },
  {
   "cell_type": "code",
   "execution_count": 23,
   "metadata": {
    "collapsed": false
   },
   "outputs": [],
   "source": [
    "sz_st_vec_bytes = 8 + 2**16\n",
    "num_states = trc.size / (sz_st_vec_bytes)\n",
    "\n",
    "trc = np.reshape(trc, (int(num_states), -1))"
   ]
  },
  {
   "cell_type": "raw",
   "metadata": {},
   "source": []
  },
  {
   "cell_type": "code",
   "execution_count": 18,
   "metadata": {
    "collapsed": false
   },
   "outputs": [],
   "source": [
    "trc.shape\n",
    "trc = np.unpackbits(trc, axis=1)"
   ]
  },
  {
   "cell_type": "code",
   "execution_count": 19,
   "metadata": {
    "collapsed": false
   },
   "outputs": [
    {
     "data": {
      "text/plain": [
       "(42308, 524352)"
      ]
     },
     "execution_count": 19,
     "metadata": {},
     "output_type": "execute_result"
    }
   ],
   "source": [
    "trc.shape"
   ]
  },
  {
   "cell_type": "code",
   "execution_count": 21,
   "metadata": {
    "collapsed": true
   },
   "outputs": [],
   "source": []
  },
  {
   "cell_type": "code",
   "execution_count": null,
   "metadata": {
    "collapsed": true
   },
   "outputs": [],
   "source": []
  },
  {
   "cell_type": "code",
   "execution_count": null,
   "metadata": {
    "collapsed": true
   },
   "outputs": [],
   "source": []
  },
  {
   "cell_type": "code",
   "execution_count": null,
   "metadata": {
    "collapsed": true
   },
   "outputs": [],
   "source": []
  },
  {
   "cell_type": "code",
   "execution_count": null,
   "metadata": {
    "collapsed": true
   },
   "outputs": [],
   "source": []
  },
  {
   "cell_type": "code",
   "execution_count": null,
   "metadata": {
    "collapsed": true
   },
   "outputs": [],
   "source": []
  }
 ],
 "metadata": {
  "kernelspec": {
   "display_name": "Python 3",
   "language": "python",
   "name": "python3"
  },
  "language_info": {
   "codemirror_mode": {
    "name": "ipython",
    "version": 3
   },
   "file_extension": ".py",
   "mimetype": "text/x-python",
   "name": "python",
   "nbconvert_exporter": "python",
   "pygments_lexer": "ipython3",
   "version": "3.5.1"
  }
 },
 "nbformat": 4,
 "nbformat_minor": 0
}
