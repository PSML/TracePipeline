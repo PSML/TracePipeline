{
 "cells": [
  {
   "cell_type": "code",
   "execution_count": 6,
   "metadata": {
    "collapsed": false
   },
   "outputs": [],
   "source": [
    "'''.'''\n",
    "import random\n",
    "import numpy as np\n",
    "import glob\n",
    "from scipy import misc"
   ]
  },
  {
   "cell_type": "code",
   "execution_count": 7,
   "metadata": {
    "collapsed": true
   },
   "outputs": [],
   "source": [
    "#Parameters\n",
    "mode = 'act'\n",
    "trace_dir = 'traces'\n",
    "image_dir = 'images'"
   ]
  },
  {
   "cell_type": "code",
   "execution_count": 8,
   "metadata": {
    "collapsed": false
   },
   "outputs": [
    {
     "name": "stdout",
     "output_type": "stream",
     "text": [
      "rm -rf *~ *.o *.map *.img *.lst *.out memcpy.s memcpy backup 'images' *.s traces tmp\r\n"
     ]
    }
   ],
   "source": [
    "#Clean up\n",
    "!make clean "
   ]
  },
  {
   "cell_type": "code",
   "execution_count": 9,
   "metadata": {
    "collapsed": false
   },
   "outputs": [
    {
     "name": "stdout",
     "output_type": "stream",
     "text": [
      "../../datasources/6502/ext/install/bin/cc65 -D__6502__ -t none -O -Oi --cpu 6502 hi.c\n",
      "../../datasources/6502/ext/install/bin/ca65 --cpu 6502 hi.s -l hi.lst\n",
      "../../datasources/6502/ext/install/bin/ld65 -o hi -C ../../datasources/6502/apps/cc/apps/bu6502.cfg  hi.o ../../datasources/6502/apps/cc/apps/bu6502.lib   -m hi.map\n",
      "[ -d 'backup' ] || mkdir backup\n",
      "mv *.lst *.map *.s backup\n",
      "[ -d images ] || mkdir images\n",
      "mv hi hi.img\n",
      "mv *.img images\n",
      "rm hi.o\n",
      "CPU times: user 3.07 ms, sys: 5.25 ms, total: 8.32 ms\n",
      "Wall time: 162 ms\n"
     ]
    }
   ],
   "source": [
    "%%time \n",
    "#About 50s\n",
    "!make IMGDIR={image_dir}"
   ]
  },
  {
   "cell_type": "code",
   "execution_count": 10,
   "metadata": {
    "collapsed": false
   },
   "outputs": [
    {
     "name": "stdout",
     "output_type": "stream",
     "text": [
      "CPU times: user 3.43 ms, sys: 7.99 ms, total: 11.4 ms\n",
      "Wall time: 249 ms\n"
     ]
    }
   ],
   "source": [
    "%%time\n",
    "#Run images through 6520 simulator to generate traces.\n",
    "!mkdir -p {trace_dir}\n",
    "traces = !ls {image_dir}\n",
    "for t in traces:\n",
    "    !../../datasources/6502/6502 -t {mode} -o {trace_dir}/{t}.trc {image_dir}/{t} /dev/null 2> backup/err"
   ]
  },
  {
   "cell_type": "code",
   "execution_count": null,
   "metadata": {
    "collapsed": true
   },
   "outputs": [],
   "source": []
  }
 ],
 "metadata": {
  "kernelspec": {
   "display_name": "Python 3",
   "language": "python",
   "name": "python3"
  },
  "language_info": {
   "codemirror_mode": {
    "name": "ipython",
    "version": 3
   },
   "file_extension": ".py",
   "mimetype": "text/x-python",
   "name": "python",
   "nbconvert_exporter": "python",
   "pygments_lexer": "ipython3",
   "version": "3.5.1"
  }
 },
 "nbformat": 4,
 "nbformat_minor": 0
}
