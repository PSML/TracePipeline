{
 "cells": [
  {
   "cell_type": "code",
   "execution_count": 46,
   "metadata": {
    "collapsed": false
   },
   "outputs": [],
   "source": [
    "import sys\n",
    "sys.path.append('../../process')\n",
    "import psml\n",
    "import imp\n",
    "import numpy as np\n",
    "import imp"
   ]
  },
  {
   "cell_type": "code",
   "execution_count": 47,
   "metadata": {
    "collapsed": false
   },
   "outputs": [],
   "source": [
    "trace_dir = 'traces/'"
   ]
  },
  {
   "cell_type": "code",
   "execution_count": 48,
   "metadata": {
    "collapsed": false
   },
   "outputs": [
    {
     "data": {
      "text/plain": [
       "(1, 2639, 5)"
      ]
     },
     "execution_count": 48,
     "metadata": {},
     "output_type": "execute_result"
    }
   ],
   "source": [
    "imp.reload(psml)\n",
    "#Load all for loop traces into one 3d array.\n",
    "trc_paths = !ls traces/*act*\n",
    "trcs = psml.paths_to_tracearr(trc_paths, 'act')\n",
    "trcs.shape"
   ]
  },
  {
   "cell_type": "code",
   "execution_count": 21,
   "metadata": {
    "collapsed": false
   },
   "outputs": [
    {
     "data": {
      "text/plain": [
       "1839"
      ]
     },
     "execution_count": 21,
     "metadata": {},
     "output_type": "execute_result"
    }
   ],
   "source": [
    "#Read events\n",
    "t0 = trcs[0]\n",
    "#% 8 for Lower 3 bits = id. id = 1 and 3 are read events\n",
    "rd_events = ((t0[:,0] % 8) == 1) | ((t0[:,0] % 8) == 3)\n",
    "rd_events.sum()"
   ]
  },
  {
   "cell_type": "code",
   "execution_count": 22,
   "metadata": {
    "collapsed": false
   },
   "outputs": [
    {
     "data": {
      "text/plain": [
       "800"
      ]
     },
     "execution_count": 22,
     "metadata": {},
     "output_type": "execute_result"
    }
   ],
   "source": [
    "#Write events\n",
    "#% 8 for Lower 3 bits = id. id = 2 and 4 are write events\n",
    "wr_events = ((t0[:,0] % 8) == 2) | ((t0[:,0] % 8) == 4)\n",
    "wr_events.sum()"
   ]
  },
  {
   "cell_type": "code",
   "execution_count": 23,
   "metadata": {
    "collapsed": false
   },
   "outputs": [
    {
     "data": {
      "text/plain": [
       "True"
      ]
     },
     "execution_count": 23,
     "metadata": {},
     "output_type": "execute_result"
    }
   ],
   "source": [
    "#Do they sum to entire trace?\n",
    "rd_events.sum() + wr_events.sum() == trcs.shape[1]"
   ]
  },
  {
   "cell_type": "code",
   "execution_count": 24,
   "metadata": {
    "collapsed": false
   },
   "outputs": [
    {
     "data": {
      "text/plain": [
       "array([    0,     1,     2,     3,     4,     5,     6,    16,    17,\n",
       "          18,    19,    24,   518,   519,   520,   521,   522,   523,\n",
       "         524,   525,   526,   527,   528,   529,   530,   531,   532,\n",
       "         533,   534,   535,   536,   537,   538,   539,   540,   541,\n",
       "         542,   543,   544,   545,   546,   547,   548,   549,   550,\n",
       "         551,   552,   553,   554,   555,   556,  1288,  1289,  1290,\n",
       "        1291,  1292,  1293,  1294,  1295,  1296,  1297,  1298,  1299,\n",
       "        1300,  1301,  1302,  1303,  1304,  1305,  1306,  1307,  1308,\n",
       "        1309,  1310,  1311,  1312,  1313,  1314,  1315,  1316,  1317,\n",
       "        1318,  1319,  1327,  1328,  1329,  1330,  1331,  1332,  1333,\n",
       "        1334,  1335,  1336,  1337,  1338,  1339,  1340,  1341,  1342,\n",
       "        1353,  1354,  1355,  1356,  1362,  1363,  1364,  1365,  1366,\n",
       "        1367,  1368,  1369,  1370,  1378,  1379,  1380,  1381,  1382,\n",
       "        1383,  1384,  1385,  1386,  1387,  1388,  1389,  1390,  1391,\n",
       "        1392,  1393,  1394,  1395,  1396,  1397,  1398,  1399,  1400,\n",
       "        1401,  1402,  1403,  1404,  1405,  1406,  1407,  1408,  1409,\n",
       "        1410,  1411,  1412,  1419,  1420,  1421,  1422,  1423, 65540, 65541])"
      ]
     },
     "execution_count": 24,
     "metadata": {},
     "output_type": "execute_result"
    }
   ],
   "source": [
    "#Trying to stay consistent with sv interpretation.\n",
    "#No ir here, but is in sv at position 7. Leaving it open here.\n",
    "\n",
    "#Reg reads\n",
    "reg_rds = trcs[:,np.squeeze((trcs[:,:,0] % 8) == 3), :]\n",
    "\n",
    "#Reg addresses\n",
    "#Pc is 2 bytes. Addresses from simulator don't account for 2nd byte of pc.\n",
    "reg_mask = np.unique(np.squeeze(reg_rds)[:,1]) + 1\n",
    "\n",
    "#If Pc was one of the reads, add its 2nd byte\n",
    "if 1 in reg_mask:\n",
    "    reg_mask = np.append([0], reg_mask) \n",
    "\n",
    "#Start mem component of sv at index 8, skipping over 7.\n",
    "#Mem_rds\n",
    "mem_rds = trcs[:,np.squeeze((trcs[:,:,0] % 8) == 1), :]\n",
    "#Mem addrs can span 2 bytes\n",
    "mem_addr = np.squeeze(mem_rds)[:,1]+ 256*np.squeeze(mem_rds)[:,2]\n",
    "\n",
    "#Shift so they start at 8\n",
    "mem_mask = np.unique(np.array(mem_addr, dtype=np.uint32))+8\n",
    "\n",
    "#reg_mask\n",
    "read_mask = np.union1d(reg_mask, mem_mask)\n",
    "read_mask"
   ]
  },
  {
   "cell_type": "code",
   "execution_count": 30,
   "metadata": {
    "collapsed": false
   },
   "outputs": [
    {
     "data": {
      "text/plain": [
       "array([  0,   1,   2,   3,   4,   5,   6,   8,   9,  16,  17,  18,  19,\n",
       "        24, 518, 520, 521, 522, 523, 524, 525, 526, 527, 528, 529, 530,\n",
       "       531, 532, 533, 534, 535, 536, 537, 538, 539, 540, 541, 542, 543,\n",
       "       544, 545, 546, 547, 548, 549, 550, 551, 552, 553, 554, 555, 556])"
      ]
     },
     "execution_count": 30,
     "metadata": {},
     "output_type": "execute_result"
    }
   ],
   "source": [
    "#Write mask\n",
    "reg_writes = trcs[:,np.squeeze((trcs[:,:,0] % 8) == 4), :]\n",
    "#Bump over for 2byte pc\n",
    "reg_mask = np.unique(np.squeeze(reg_rds)[:,1]) + 1\n",
    "#Grab 2nd byte of pc\n",
    "if 1 in reg_mask:\n",
    "    reg_mask = np.append([0], reg_mask) \n",
    "\n",
    "#Mem writes\n",
    "mem_rds = trcs[:,np.squeeze((trcs[:,:,0] % 8) == 2), :]\n",
    "#Mem addrs can span 2 bytes\n",
    "mem_addr = np.squeeze(mem_rds)[:,1]+ 256*np.squeeze(mem_rds)[:,2]\n",
    "\n",
    "#Shift so they start at 8\n",
    "mem_mask = np.unique(np.array(mem_addr, dtype=np.uint32))+8\n",
    "\n",
    "#Entire write mask\n",
    "write_mask = np.union1d(reg_mask, mem_mask)\n",
    "write_mask"
   ]
  },
  {
   "cell_type": "code",
   "execution_count": 34,
   "metadata": {
    "collapsed": false
   },
   "outputs": [
    {
     "name": "stdout",
     "output_type": "stream",
     "text": [
      "num_states is non int!\n"
     ]
    },
    {
     "ename": "SystemExit",
     "evalue": "",
     "output_type": "error",
     "traceback": [
      "An exception has occurred, use %tb to see the full traceback.\n",
      "\u001b[0;31mSystemExit\u001b[0m\n"
     ]
    },
    {
     "name": "stderr",
     "output_type": "stream",
     "text": [
      "To exit: use 'exit', 'quit', or Ctrl-D.\n"
     ]
    }
   ],
   "source": [
    "sv_trc = np.array([psml.path_to_svarr('traces/hi.img.sv.trc')])\n",
    "psml.mask_svarr(sv_trc, write_mask).shape\n",
    "psml.path_to_svarr('images/hi.img')"
   ]
  },
  {
   "cell_type": "code",
   "execution_count": 51,
   "metadata": {
    "collapsed": false
   },
   "outputs": [],
   "source": [
    "#Append zero mem state.\n",
    "img = psml.img_to_sv('images/hi.img')"
   ]
  },
  {
   "cell_type": "code",
   "execution_count": 74,
   "metadata": {
    "collapsed": false
   },
   "outputs": [
    {
     "data": {
      "text/plain": [
       "2"
      ]
     },
     "execution_count": 74,
     "metadata": {},
     "output_type": "execute_result"
    }
   ],
   "source": [
    "#img[8:].shape == sv_trc[0,0,8:]\n",
    "(~(img == sv_trc[0,0,:])).sum()\n",
    "#img[0:50]"
   ]
  },
  {
   "cell_type": "code",
   "execution_count": null,
   "metadata": {
    "collapsed": true
   },
   "outputs": [],
   "source": []
  }
 ],
 "metadata": {
  "kernelspec": {
   "display_name": "Python 3",
   "language": "python",
   "name": "python3"
  },
  "language_info": {
   "codemirror_mode": {
    "name": "ipython",
    "version": 3
   },
   "file_extension": ".py",
   "mimetype": "text/x-python",
   "name": "python",
   "nbconvert_exporter": "python",
   "pygments_lexer": "ipython3",
   "version": "3.5.1"
  }
 },
 "nbformat": 4,
 "nbformat_minor": 0
}
