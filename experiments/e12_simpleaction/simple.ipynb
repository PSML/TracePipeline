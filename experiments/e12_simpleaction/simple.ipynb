{
 "cells": [
  {
   "cell_type": "code",
   "execution_count": 121,
   "metadata": {
    "collapsed": false
   },
   "outputs": [],
   "source": [
    "import sys\n",
    "sys.path.append('../../process')\n",
    "import psml\n",
    "import imp\n",
    "import numpy as np\n",
    "import imp"
   ]
  },
  {
   "cell_type": "code",
   "execution_count": 122,
   "metadata": {
    "collapsed": false
   },
   "outputs": [],
   "source": [
    "trace_dir = 'traces/'"
   ]
  },
  {
   "cell_type": "code",
   "execution_count": 123,
   "metadata": {
    "collapsed": false
   },
   "outputs": [
    {
     "data": {
      "text/plain": [
       "(1, 2639, 5)"
      ]
     },
     "execution_count": 123,
     "metadata": {},
     "output_type": "execute_result"
    }
   ],
   "source": [
    "imp.reload(psml)\n",
    "#Load all for loop traces into one 3d array.\n",
    "trc_paths = !ls traces/*\n",
    "trcs = psml.paths_to_tracearr(trc_paths, 'act')\n",
    "trcs.shape"
   ]
  },
  {
   "cell_type": "code",
   "execution_count": 124,
   "metadata": {
    "collapsed": false
   },
   "outputs": [
    {
     "data": {
      "text/plain": [
       "1839"
      ]
     },
     "execution_count": 124,
     "metadata": {},
     "output_type": "execute_result"
    }
   ],
   "source": [
    "#Read events\n",
    "t0 = trcs[0]\n",
    "#% 8 for Lower 3 bits = id. id = 1 and 3 are read events\n",
    "rd_events = ((t0[:,0] % 8) == 1) | ((t0[:,0] % 8) == 3)\n",
    "rd_events.sum()"
   ]
  },
  {
   "cell_type": "code",
   "execution_count": 125,
   "metadata": {
    "collapsed": false
   },
   "outputs": [
    {
     "data": {
      "text/plain": [
       "800"
      ]
     },
     "execution_count": 125,
     "metadata": {},
     "output_type": "execute_result"
    }
   ],
   "source": [
    "#Write events\n",
    "#% 8 for Lower 3 bits = id. id = 2 and 4 are write events\n",
    "wr_events = ((t0[:,0] % 8) == 2) | ((t0[:,0] % 8) == 4)\n",
    "wr_events.sum()"
   ]
  },
  {
   "cell_type": "code",
   "execution_count": 126,
   "metadata": {
    "collapsed": false
   },
   "outputs": [
    {
     "data": {
      "text/plain": [
       "True"
      ]
     },
     "execution_count": 126,
     "metadata": {},
     "output_type": "execute_result"
    }
   ],
   "source": [
    "#Do they sum to entire trace?\n",
    "rd_events.sum() + wr_events.sum() == trcs.shape[1]"
   ]
  },
  {
   "cell_type": "code",
   "execution_count": 221,
   "metadata": {
    "collapsed": false
   },
   "outputs": [
    {
     "data": {
      "text/plain": [
       "array([   16,    17,    18,    19,    24,   518,   519,   520,   521,\n",
       "         522,   523,   524,   525,   526,   527,   528,   529,   530,\n",
       "         531,   532,   533,   534,   535,   536,   537,   538,   539,\n",
       "         540,   541,   542,   543,   544,   545,   546,   547,   548,\n",
       "         549,   550,   551,   552,   553,   554,   555,   556,  1288,\n",
       "        1289,  1290,  1291,  1292,  1293,  1294,  1295,  1296,  1297,\n",
       "        1298,  1299,  1300,  1301,  1302,  1303,  1304,  1305,  1306,\n",
       "        1307,  1308,  1309,  1310,  1311,  1312,  1313,  1314,  1315,\n",
       "        1316,  1317,  1318,  1319,  1327,  1328,  1329,  1330,  1331,\n",
       "        1332,  1333,  1334,  1335,  1336,  1337,  1338,  1339,  1340,\n",
       "        1341,  1342,  1353,  1354,  1355,  1356,  1362,  1363,  1364,\n",
       "        1365,  1366,  1367,  1368,  1369,  1370,  1378,  1379,  1380,\n",
       "        1381,  1382,  1383,  1384,  1385,  1386,  1387,  1388,  1389,\n",
       "        1390,  1391,  1392,  1393,  1394,  1395,  1396,  1397,  1398,\n",
       "        1399,  1400,  1401,  1402,  1403,  1404,  1405,  1406,  1407,\n",
       "        1408,  1409,  1410,  1411,  1412,  1419,  1420,  1421,  1422,\n",
       "        1423, 65540, 65541], dtype=uint64)"
      ]
     },
     "execution_count": 221,
     "metadata": {},
     "output_type": "execute_result"
    }
   ],
   "source": [
    "\n",
    "\n",
    "#Read mask vec\n",
    "#Reg_rds\n",
    "a = trcs[:,np.squeeze((trcs[:,:,0] % 8) == 3), :]\n",
    "#Reg addresses\n",
    "reg_addr = np.unique(np.squeeze(a)[:,1]) + 1\n",
    "#Pc is 2 bytes. Need to shift all addresses for sv\n",
    "if 1 in reg_addr:\n",
    "    reg_addr = np.append([0], reg_addr) \n",
    "#Ignore ir for now.\n",
    "\n",
    "#Start mem component of sv at index 8.\n",
    "#Mem_rds\n",
    "b = trcs[:,np.squeeze((trcs[:,:,0] % 8) == 1), :]\n",
    "#Mem addrs can span 2 bytes\n",
    "mem_addr = np.squeeze(b)[:,1]+ 256*np.squeeze(b)[:,2]\n",
    "\n",
    "#Shift so they start at 8\n",
    "mem_mask = np.unique(np.array(mem_addr, dtype=np.uint64))+8\n",
    "\n"
   ]
  },
  {
   "cell_type": "code",
   "execution_count": 205,
   "metadata": {
    "collapsed": false
   },
   "outputs": [
    {
     "data": {
      "text/plain": [
       "False"
      ]
     },
     "execution_count": 205,
     "metadata": {},
     "output_type": "execute_result"
    }
   ],
   "source": [
    "0 in reg_addr"
   ]
  },
  {
   "cell_type": "code",
   "execution_count": null,
   "metadata": {
    "collapsed": true
   },
   "outputs": [],
   "source": []
  },
  {
   "cell_type": "code",
   "execution_count": 37,
   "metadata": {
    "collapsed": false
   },
   "outputs": [
    {
     "data": {
      "text/plain": [
       "array([[ 18, 254,   1,  14,   5],\n",
       "       [ 18, 254,   1,  17,   5],\n",
       "       [ 18, 254,   1,  20,   5],\n",
       "       [ 18, 254,   1,  23,   5],\n",
       "       [ 18, 254,   1,  26,   5]], dtype=uint8)"
      ]
     },
     "execution_count": 37,
     "metadata": {},
     "output_type": "execute_result"
    }
   ],
   "source": [
    "np.unique(trcs[0,:,0], return_counts=True)\n",
    "#What is this 2 byte mem write?\n",
    "trcs[0, trcs[0, : , 0]==18,:]"
   ]
  },
  {
   "cell_type": "code",
   "execution_count": 58,
   "metadata": {
    "collapsed": false
   },
   "outputs": [
    {
     "data": {
      "text/plain": [
       "array([11,  3,  0,  0,  0], dtype=uint8)"
      ]
     },
     "execution_count": 58,
     "metadata": {},
     "output_type": "execute_result"
    }
   ],
   "source": [
    "trcs[0][-5]"
   ]
  },
  {
   "cell_type": "code",
   "execution_count": 49,
   "metadata": {
    "collapsed": false
   },
   "outputs": [
    {
     "data": {
      "text/plain": [
       "array([0], dtype=uint8)"
      ]
     },
     "execution_count": 49,
     "metadata": {},
     "output_type": "execute_result"
    }
   ],
   "source": [
    "np.unique(trcs[0, trcs[0, :, 0] == 20, :][:,2])"
   ]
  },
  {
   "cell_type": "code",
   "execution_count": 27,
   "metadata": {
    "collapsed": false
   },
   "outputs": [
    {
     "data": {
      "text/plain": [
       "((1, 2639, 5), (1, 2639, 40))"
      ]
     },
     "execution_count": 27,
     "metadata": {},
     "output_type": "execute_result"
    }
   ],
   "source": [
    "#Trim trace width to just register state.\n",
    "trcs_bits = psml.byte_to_bit_sv(trcs)\n",
    "trcs.shape, trcs_bits.shape"
   ]
  },
  {
   "cell_type": "code",
   "execution_count": 26,
   "metadata": {
    "collapsed": false
   },
   "outputs": [
    {
     "data": {
      "image/png": "[encoded data removed]",
      "text/plain": [
       "<PIL.Image.Image image mode=L size=40x2639 at 0x10B0450F0>"
      ]
     },
     "execution_count": 26,
     "metadata": {},
     "output_type": "execute_result"
    }
   ],
   "source": [
    "psml.show_arr(for_trcs_bits[0])"
   ]
  },
  {
   "cell_type": "code",
   "execution_count": 21,
   "metadata": {
    "collapsed": false
   },
   "outputs": [
    {
     "data": {
      "text/plain": [
       "array([19,  0,  0, 28,  5], dtype=uint8)"
      ]
     },
     "execution_count": 21,
     "metadata": {},
     "output_type": "execute_result"
    }
   ],
   "source": []
  }
 ],
 "metadata": {
  "kernelspec": {
   "display_name": "Python 3",
   "language": "python",
   "name": "python3"
  },
  "language_info": {
   "codemirror_mode": {
    "name": "ipython",
    "version": 3
   },
   "file_extension": ".py",
   "mimetype": "text/x-python",
   "name": "python",
   "nbconvert_exporter": "python",
   "pygments_lexer": "ipython3",
   "version": "3.5.1"
  }
 },
 "nbformat": 4,
 "nbformat_minor": 0
}
