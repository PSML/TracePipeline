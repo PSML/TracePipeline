{
 "cells": [
  {
   "cell_type": "code",
   "execution_count": 188,
   "metadata": {
    "collapsed": false
   },
   "outputs": [],
   "source": [
    "import sys\n",
    "sys.path.append('../../process')\n",
    "import psml\n",
    "import imp\n",
    "import numpy as np\n",
    "import imp\n",
    "import sys\n",
    "import copy"
   ]
  },
  {
   "cell_type": "code",
   "execution_count": 189,
   "metadata": {
    "collapsed": false
   },
   "outputs": [],
   "source": [
    "trace_dir = 'traces/'"
   ]
  },
  {
   "cell_type": "code",
   "execution_count": 190,
   "metadata": {
    "collapsed": false
   },
   "outputs": [
    {
     "data": {
      "text/plain": [
       "(1, 2639, 5)"
      ]
     },
     "execution_count": 190,
     "metadata": {},
     "output_type": "execute_result"
    }
   ],
   "source": [
    "imp.reload(psml)\n",
    "#Load all for loop traces into one 3d array.\n",
    "trc_paths = !ls traces/*act*\n",
    "trcs = psml.paths_to_tracearr(trc_paths, 'act')\n",
    "trcs.shape"
   ]
  },
  {
   "cell_type": "code",
   "execution_count": 191,
   "metadata": {
    "collapsed": false
   },
   "outputs": [
    {
     "data": {
      "text/plain": [
       "1839"
      ]
     },
     "execution_count": 191,
     "metadata": {},
     "output_type": "execute_result"
    }
   ],
   "source": [
    "#Read events\n",
    "t0 = trcs[0]\n",
    "#% 8 for Lower 3 bits = id. id = 1 and 3 are read events\n",
    "rd_events = ((t0[:,0] % 8) == 1) | ((t0[:,0] % 8) == 3)\n",
    "rd_events.sum()"
   ]
  },
  {
   "cell_type": "code",
   "execution_count": 192,
   "metadata": {
    "collapsed": false
   },
   "outputs": [
    {
     "data": {
      "text/plain": [
       "800"
      ]
     },
     "execution_count": 192,
     "metadata": {},
     "output_type": "execute_result"
    }
   ],
   "source": [
    "#Write events\n",
    "#% 8 for Lower 3 bits = id. id = 2 and 4 are write events\n",
    "wr_events = ((t0[:,0] % 8) == 2) | ((t0[:,0] % 8) == 4)\n",
    "wr_events.sum()"
   ]
  },
  {
   "cell_type": "code",
   "execution_count": 193,
   "metadata": {
    "collapsed": false
   },
   "outputs": [
    {
     "data": {
      "text/plain": [
       "True"
      ]
     },
     "execution_count": 193,
     "metadata": {},
     "output_type": "execute_result"
    }
   ],
   "source": [
    "#Do they sum to entire trace?\n",
    "rd_events.sum() + wr_events.sum() == trcs.shape[1]"
   ]
  },
  {
   "cell_type": "code",
   "execution_count": 194,
   "metadata": {
    "collapsed": false
   },
   "outputs": [
    {
     "data": {
      "text/plain": [
       "array([    0,     1,     2,     3,     4,     5,     6,    16,    17,\n",
       "          18,    19,    24,   518,   519,   520,   521,   522,   523,\n",
       "         524,   525,   526,   527,   528,   529,   530,   531,   532,\n",
       "         533,   534,   535,   536,   537,   538,   539,   540,   541,\n",
       "         542,   543,   544,   545,   546,   547,   548,   549,   550,\n",
       "         551,   552,   553,   554,   555,   556,  1288,  1289,  1290,\n",
       "        1291,  1292,  1293,  1294,  1295,  1296,  1297,  1298,  1299,\n",
       "        1300,  1301,  1302,  1303,  1304,  1305,  1306,  1307,  1308,\n",
       "        1309,  1310,  1311,  1312,  1313,  1314,  1315,  1316,  1317,\n",
       "        1318,  1319,  1327,  1328,  1329,  1330,  1331,  1332,  1333,\n",
       "        1334,  1335,  1336,  1337,  1338,  1339,  1340,  1341,  1342,\n",
       "        1353,  1354,  1355,  1356,  1362,  1363,  1364,  1365,  1366,\n",
       "        1367,  1368,  1369,  1370,  1378,  1379,  1380,  1381,  1382,\n",
       "        1383,  1384,  1385,  1386,  1387,  1388,  1389,  1390,  1391,\n",
       "        1392,  1393,  1394,  1395,  1396,  1397,  1398,  1399,  1400,\n",
       "        1401,  1402,  1403,  1404,  1405,  1406,  1407,  1408,  1409,\n",
       "        1410,  1411,  1412,  1419,  1420,  1421,  1422,  1423, 65540, 65541])"
      ]
     },
     "execution_count": 194,
     "metadata": {},
     "output_type": "execute_result"
    }
   ],
   "source": [
    "#Trying to stay consistent with sv interpretation.\n",
    "#No ir here, but is in sv at position 7. Leaving it open here.\n",
    "\n",
    "#Reg reads\n",
    "reg_rds = trcs[:,np.squeeze((trcs[:,:,0] % 8) == 3), :]\n",
    "\n",
    "#Reg addresses\n",
    "#Pc is 2 bytes. Addresses from simulator don't account for 2nd byte of pc.\n",
    "reg_mask = np.unique(np.squeeze(reg_rds)[:,1]) + 1\n",
    "\n",
    "#If Pc was one of the reads, add its 2nd byte\n",
    "if 1 in reg_mask:\n",
    "    reg_mask = np.append([0], reg_mask) \n",
    "\n",
    "#Start mem component of sv at index 8, skipping over 7.\n",
    "#Mem_rds\n",
    "mem_rds = trcs[:,np.squeeze((trcs[:,:,0] % 8) == 1), :]\n",
    "#Mem addrs can span 2 bytes\n",
    "mem_addr = np.squeeze(mem_rds)[:,1]+ 256*np.squeeze(mem_rds)[:,2]\n",
    "\n",
    "#Shift so they start at 8\n",
    "mem_mask = np.unique(np.array(mem_addr, dtype=np.uint32))+8\n",
    "\n",
    "#reg_mask\n",
    "read_mask = np.union1d(reg_mask, mem_mask)\n",
    "read_mask"
   ]
  },
  {
   "cell_type": "code",
   "execution_count": 195,
   "metadata": {
    "collapsed": false
   },
   "outputs": [
    {
     "data": {
      "text/plain": [
       "array([  0,   1,   2,   3,   4,   5,   6,   8,   9,  16,  17,  18,  19,\n",
       "        24, 518, 520, 521, 522, 523, 524, 525, 526, 527, 528, 529, 530,\n",
       "       531, 532, 533, 534, 535, 536, 537, 538, 539, 540, 541, 542, 543,\n",
       "       544, 545, 546, 547, 548, 549, 550, 551, 552, 553, 554, 555, 556])"
      ]
     },
     "execution_count": 195,
     "metadata": {},
     "output_type": "execute_result"
    }
   ],
   "source": [
    "#Write mask\n",
    "reg_writes = trcs[:,np.squeeze((trcs[:,:,0] % 8) == 4), :]\n",
    "#Bump over for 2byte pc\n",
    "reg_mask = np.unique(np.squeeze(reg_writes)[:,1]) + 1\n",
    "#Grab 2nd byte of pc\n",
    "if 1 in reg_mask:\n",
    "    reg_mask = np.append([0], reg_mask) \n",
    "\n",
    "#Mem writes\n",
    "mem_writes = trcs[:,np.squeeze((trcs[:,:,0] % 8) == 2), :]\n",
    "#Mem addrs can span 2 bytes\n",
    "mem_addr = np.squeeze(mem_writes)[:,1]+ 256*np.squeeze(mem_writes)[:,2]\n",
    "\n",
    "#Shift so they start at 8\n",
    "mem_mask = np.unique(np.array(mem_addr, dtype=np.uint32))+8\n",
    "\n",
    "#Entire write mask\n",
    "write_mask = np.union1d(reg_mask, mem_mask)\n",
    "write_mask"
   ]
  },
  {
   "cell_type": "code",
   "execution_count": 196,
   "metadata": {
    "collapsed": false
   },
   "outputs": [
    {
     "data": {
      "text/plain": [
       "(1, 273, 52)"
      ]
     },
     "execution_count": 196,
     "metadata": {},
     "output_type": "execute_result"
    }
   ],
   "source": [
    "sv_trc = np.array([psml.path_to_svarr('traces/hi.img.sv.trc')])\n",
    "psml.mask_svarr(sv_trc, write_mask).shape\n"
   ]
  },
  {
   "cell_type": "code",
   "execution_count": 197,
   "metadata": {
    "collapsed": false
   },
   "outputs": [],
   "source": [
    "#Append zero mem state.\n",
    "img = psml.img_to_sv('images/hi.img')"
   ]
  },
  {
   "cell_type": "code",
   "execution_count": 198,
   "metadata": {
    "collapsed": false
   },
   "outputs": [
    {
     "data": {
      "text/plain": [
       "2"
      ]
     },
     "execution_count": 198,
     "metadata": {},
     "output_type": "execute_result"
    }
   ],
   "source": [
    "#They do not agree because the 0th row of the sv is AFTER applying the first instruction.\n",
    "#0 when they agree.\n",
    "(~(img == sv_trc[0,0,:])).sum()\n"
   ]
  },
  {
   "cell_type": "code",
   "execution_count": 199,
   "metadata": {
    "collapsed": false
   },
   "outputs": [
    {
     "data": {
      "text/plain": [
       "'\\n[ 11,   5,   0,   0,   0],\\n[ 12,   5,   0,  16,   0],\\n[ 11,   5,   0,  16,   0],\\n[ 12,   5,   0,  16,   0],\\n[ 11,   5,   0,  16,   0],\\n[ 12,   5,   0,  20,   0],\\n[  9, 253, 255,   5,   0],\\n[  9, 252, 255,   0,   0],\\n[ 20,   0,   0,   0,   5]\\n'"
      ]
     },
     "execution_count": 199,
     "metadata": {},
     "output_type": "execute_result"
    }
   ],
   "source": [
    "#Actions induced by first instruction to state.\n",
    "#There are 9 of them by inspection \n",
    "#Actions:\n",
    "'''\n",
    "9 ir=0x00, ACTCNT=9 (inst=11, BRK, interrupt mode=6, impl: Implied i)\n",
    "REG RD: sr 00\n",
    "REG WR: sr 10\n",
    "REG RD: sr 10\n",
    "REG WR: sr 10\n",
    "REG RD: sr 10\n",
    "REG WR: sr 14\n",
    "MEM RD: fffd 05\n",
    "MEM RD: fffc 00\n",
    "REG WR: pc 0500\n",
    "'''\n",
    "#Encoded: \n",
    "'''\n",
    "[ 11,   5,   0,   0,   0],\n",
    "[ 12,   5,   0,  16,   0],\n",
    "[ 11,   5,   0,  16,   0],\n",
    "[ 12,   5,   0,  16,   0],\n",
    "[ 11,   5,   0,  16,   0],\n",
    "[ 12,   5,   0,  20,   0],\n",
    "[  9, 253, 255,   5,   0],\n",
    "[  9, 252, 255,   0,   0],\n",
    "[ 20,   0,   0,   0,   5]\n",
    "'''"
   ]
  },
  {
   "cell_type": "code",
   "execution_count": 200,
   "metadata": {
    "collapsed": false
   },
   "outputs": [
    {
     "data": {
      "text/plain": [
       "array([[ 11,   5,   0,   0,   0],\n",
       "       [ 12,   5,   0,  16,   0],\n",
       "       [ 11,   5,   0,  16,   0],\n",
       "       [ 12,   5,   0,  16,   0],\n",
       "       [ 11,   5,   0,  16,   0],\n",
       "       [ 12,   5,   0,  20,   0],\n",
       "       [  9, 253, 255,   5,   0],\n",
       "       [  9, 252, 255,   0,   0],\n",
       "       [ 20,   0,   0,   0,   5]], dtype=uint8)"
      ]
     },
     "execution_count": 200,
     "metadata": {},
     "output_type": "execute_result"
    }
   ],
   "source": [
    "#Apply the actions corresponding to the first instruction.\n",
    "to_apply = trcs[0,:9,:]\n",
    "to_apply"
   ]
  },
  {
   "cell_type": "code",
   "execution_count": 201,
   "metadata": {
    "collapsed": false,
    "scrolled": true
   },
   "outputs": [],
   "source": [
    "def write_mask_act(act_trc):\n",
    "    #Write mask\n",
    "    reg_writes = act_trc[((act_trc % 8)[:,0]) == 4, :]\n",
    "    #Bump over for 2byte pc\n",
    "    reg_mask = np.unique(np.squeeze(reg_writes)[:,1]) + 1\n",
    "    #Grab 2nd byte of pc\n",
    "    if 1 in reg_mask:\n",
    "        reg_mask = np.append([0], reg_mask) \n",
    "\n",
    "    #Mem writes\n",
    "    mem_writes = act_trc[((act_trc % 8)[:,0]) == 2, :]\n",
    "    #Mem addrs can span 2 bytes\n",
    "    mem_addr = np.squeeze(mem_writes)[:,1]+ 256*np.squeeze(mem_writes)[:,2]\n",
    "\n",
    "    #Shift so they start at 8\n",
    "    mem_mask = np.unique(np.array(mem_addr, dtype=np.uint32))+8\n",
    "\n",
    "    #Entire write mask\n",
    "    return np.union1d(reg_mask, mem_mask)"
   ]
  },
  {
   "cell_type": "code",
   "execution_count": 202,
   "metadata": {
    "collapsed": false
   },
   "outputs": [
    {
     "data": {
      "text/plain": [
       "array([0, 1, 6])"
      ]
     },
     "execution_count": 202,
     "metadata": {},
     "output_type": "execute_result"
    }
   ],
   "source": [
    "#Wrote to pc and 6th register (sr)\n",
    "write_mask_act(trcs[0,:9,:])"
   ]
  },
  {
   "cell_type": "code",
   "execution_count": 203,
   "metadata": {
    "collapsed": false
   },
   "outputs": [],
   "source": [
    "def apply_write_actions(state, acts):\n",
    "    acts = strip_reads_act(acts)\n",
    "    #If the action was a read, return\n",
    "    if acts.shape[0] == 0:\n",
    "        return state\n",
    "    two_byte_act = two_byte_action_mask(acts)\n",
    "    #Create mask of 2 byte actions\n",
    "    #This will probably become a bottleneck\n",
    "#    assert len(two_byte_act) == len(acts)\n",
    "    state_cpy = copy.deepcopy(state)\n",
    "    for a,t in zip(acts, two_byte_act):\n",
    "        #Does the header indicate a mem or reg write?\n",
    "        if (a[0] % 8) == 4:\n",
    "            #Is this a 2 byte action? \n",
    "            if t:\n",
    "                #There is only one 2 byte reg, the pc.\n",
    "                #Think this is correct order.\n",
    "                state_cpy[0] = a[3]\n",
    "                state_cpy[1] = a[4]\n",
    "            else:\n",
    "                #Increment to account for 2 byte pc.\n",
    "                state_cpy[a[1]+1] = a[3]\n",
    "        #Memory write.\n",
    "        elif (a[0] % 8) == 2:\n",
    "            #Calculate sv offset. Add 8 for regs.\n",
    "            sv_offset = a[1] + 256*a[2] + 8\n",
    "            if t:\n",
    "                state_cpy[sv_offset] = a[3] \n",
    "                state_cpy[sv_offset + 1] = a[4] \n",
    "            else:\n",
    "                state_cpy[sv_offset] = a[3]\n",
    "        else:\n",
    "            print('Action was not a write to mem or reg.')\n",
    "            sys.exit()\n",
    "    return state_cpy"
   ]
  },
  {
   "cell_type": "code",
   "execution_count": null,
   "metadata": {
    "collapsed": true
   },
   "outputs": [],
   "source": []
  },
  {
   "cell_type": "code",
   "execution_count": 204,
   "metadata": {
    "collapsed": false
   },
   "outputs": [
    {
     "data": {
      "text/plain": [
       "0"
      ]
     },
     "execution_count": 204,
     "metadata": {},
     "output_type": "execute_result"
    }
   ],
   "source": [
    "#If we correctly applied the first instruction this sum should equal zero\n",
    "(~(apply_write_actions(img,to_apply) == sv_trc[0,0,:])).sum()"
   ]
  },
  {
   "cell_type": "code",
   "execution_count": 205,
   "metadata": {
    "collapsed": false
   },
   "outputs": [],
   "source": [
    "def strip_reads_act(act):\n",
    "    #Writes to mem/reg respectively.\n",
    "    if act.ndim == 1:  \n",
    "        if act[0]%8 == 2 or act[0]%8 == 4:\n",
    "            return act\n",
    "        else:\n",
    "            return np.array([])\n",
    "    else:\n",
    "        return act[((act[:,0]%8) == 2) | ((act[:,0]%8) == 4)]"
   ]
  },
  {
   "cell_type": "code",
   "execution_count": 206,
   "metadata": {
    "collapsed": false
   },
   "outputs": [],
   "source": [
    "def two_byte_action_mask(act):\n",
    "    #Isolates 2 byte actions.\n",
    "    if act.ndim == 1:\n",
    "        return (act[0] >> 3) == 2\n",
    "    else:\n",
    "        return (act[:,0] >> 3) == 2"
   ]
  },
  {
   "cell_type": "code",
   "execution_count": 220,
   "metadata": {
    "collapsed": false
   },
   "outputs": [
    {
     "name": "stdout",
     "output_type": "stream",
     "text": [
      "[   0.    0.    0. ...,    5.  137.    5.]\n",
      "[[   0.    0.    0. ...,    0.    0.    0.]\n",
      " [   0.    0.    0. ...,    0.   16.    0.]\n",
      " [   0.    0.    0. ...,    0.   16.    0.]\n",
      " ..., \n",
      " [   0.    0.    0. ...,  255.    0.    0.]\n",
      " [  27.    5.    0. ...,    0.    0.    0.]\n",
      " [  28.    5.    0. ...,    0.    0.    0.]]\n"
     ]
    }
   ],
   "source": [
    "def fine_grain_sv_trace(init_st, acts):\n",
    "    #one more than num actions long to incorporate init state\n",
    "    #width of initial state. \n",
    "    writes = strip_reads_act(acts)\n",
    "    trc = np.zeros( [ writes.shape[0] + 1, init_st.shape[0] ] )\n",
    "    trc[0] = init_st\n",
    "    #Slow proof of concept\n",
    "    assert len(writes) == len(trc[1:])\n",
    "    old_st = trc[0]\n",
    "    #This might be trouble.\n",
    "    #This doesn't write to trc, but a copy. \n",
    "    for i in range(writes.shape[0]):\n",
    "        trc[i+1] = hack(old_st, writes[i])\n",
    "    return trc\n",
    "\n",
    "#     for a,st in zip(writes, trc[1:]):\n",
    "#         #This is hackery.\n",
    "#         print(\"old:\", old_st)\n",
    "#         st = hack(old_st, a)\n",
    "#         print(\"new:\", st)\n",
    "#         old_st = st\n",
    "    \n",
    "#fine_grain_sv_trace(img, trcs[0])\n",
    "print(img)\n",
    "print(fine_grain_sv_trace(img, trcs[0,:,:])[:,:8])"
   ]
  },
  {
   "cell_type": "code",
   "execution_count": 208,
   "metadata": {
    "collapsed": true
   },
   "outputs": [],
   "source": [
    "def hack(state, acts):\n",
    "    acts = strip_reads_act(acts)\n",
    "    #If the action was a read, return\n",
    "    if acts.shape[0] == 0:\n",
    "        return state\n",
    "    two_byte_act = two_byte_action_mask(acts)\n",
    "    #Create mask of 2 byte actions\n",
    "    #This will probably become a bottleneck\n",
    "#    assert len(two_byte_act) == len(acts)\n",
    "    state_cpy = copy.deepcopy(state)\n",
    "    t=two_byte_act\n",
    "    a = acts\n",
    "    #Does the header indicate a mem or reg write?\n",
    "    if (a[0] % 8) == 4:\n",
    "        #Is this a 2 byte action? \n",
    "        if t:\n",
    "            #There is only one 2 byte reg, the pc.\n",
    "            #Think this is correct order.\n",
    "            state_cpy[0] = a[3]\n",
    "            state_cpy[1] = a[4]\n",
    "        else:\n",
    "            #Increment to account for 2 byte pc.\n",
    "            state_cpy[a[1]+1] = a[3]\n",
    "    #Memory write.\n",
    "    elif (a[0] % 8) == 2:\n",
    "        #Calculate sv offset. Add 8 for regs.\n",
    "        sv_offset = a[1] + 256*a[2] + 8\n",
    "        if t:\n",
    "            state_cpy[sv_offset] = a[3] \n",
    "            state_cpy[sv_offset + 1] = a[4] \n",
    "        else:\n",
    "            state_cpy[sv_offset] = a[3]\n",
    "    else:\n",
    "        print('Action was not a write to mem or reg.')\n",
    "        sys.exit(1)\n",
    "    return state_cpy"
   ]
  },
  {
   "cell_type": "code",
   "execution_count": null,
   "metadata": {
    "collapsed": true
   },
   "outputs": [],
   "source": []
  },
  {
   "cell_type": "code",
   "execution_count": null,
   "metadata": {
    "collapsed": true
   },
   "outputs": [],
   "source": []
  },
  {
   "cell_type": "code",
   "execution_count": null,
   "metadata": {
    "collapsed": true
   },
   "outputs": [],
   "source": []
  },
  {
   "cell_type": "code",
   "execution_count": null,
   "metadata": {
    "collapsed": true
   },
   "outputs": [],
   "source": []
  },
  {
   "cell_type": "code",
   "execution_count": null,
   "metadata": {
    "collapsed": true
   },
   "outputs": [],
   "source": []
  },
  {
   "cell_type": "code",
   "execution_count": null,
   "metadata": {
    "collapsed": true
   },
   "outputs": [],
   "source": []
  },
  {
   "cell_type": "code",
   "execution_count": null,
   "metadata": {
    "collapsed": true
   },
   "outputs": [],
   "source": []
  },
  {
   "cell_type": "code",
   "execution_count": null,
   "metadata": {
    "collapsed": true
   },
   "outputs": [],
   "source": []
  },
  {
   "cell_type": "code",
   "execution_count": null,
   "metadata": {
    "collapsed": true
   },
   "outputs": [],
   "source": []
  },
  {
   "cell_type": "code",
   "execution_count": null,
   "metadata": {
    "collapsed": true
   },
   "outputs": [],
   "source": []
  },
  {
   "cell_type": "code",
   "execution_count": null,
   "metadata": {
    "collapsed": true
   },
   "outputs": [],
   "source": []
  },
  {
   "cell_type": "code",
   "execution_count": null,
   "metadata": {
    "collapsed": true
   },
   "outputs": [],
   "source": []
  },
  {
   "cell_type": "code",
   "execution_count": null,
   "metadata": {
    "collapsed": true
   },
   "outputs": [],
   "source": []
  },
  {
   "cell_type": "code",
   "execution_count": null,
   "metadata": {
    "collapsed": true
   },
   "outputs": [],
   "source": []
  },
  {
   "cell_type": "code",
   "execution_count": null,
   "metadata": {
    "collapsed": true
   },
   "outputs": [],
   "source": []
  },
  {
   "cell_type": "code",
   "execution_count": null,
   "metadata": {
    "collapsed": true
   },
   "outputs": [],
   "source": []
  },
  {
   "cell_type": "code",
   "execution_count": null,
   "metadata": {
    "collapsed": true
   },
   "outputs": [],
   "source": []
  },
  {
   "cell_type": "code",
   "execution_count": null,
   "metadata": {
    "collapsed": true
   },
   "outputs": [],
   "source": []
  },
  {
   "cell_type": "code",
   "execution_count": null,
   "metadata": {
    "collapsed": true
   },
   "outputs": [],
   "source": []
  },
  {
   "cell_type": "code",
   "execution_count": null,
   "metadata": {
    "collapsed": true
   },
   "outputs": [],
   "source": []
  },
  {
   "cell_type": "code",
   "execution_count": null,
   "metadata": {
    "collapsed": true
   },
   "outputs": [],
   "source": []
  },
  {
   "cell_type": "code",
   "execution_count": null,
   "metadata": {
    "collapsed": true
   },
   "outputs": [],
   "source": []
  },
  {
   "cell_type": "code",
   "execution_count": null,
   "metadata": {
    "collapsed": true
   },
   "outputs": [],
   "source": []
  },
  {
   "cell_type": "code",
   "execution_count": null,
   "metadata": {
    "collapsed": true
   },
   "outputs": [],
   "source": []
  },
  {
   "cell_type": "code",
   "execution_count": null,
   "metadata": {
    "collapsed": true
   },
   "outputs": [],
   "source": []
  },
  {
   "cell_type": "code",
   "execution_count": null,
   "metadata": {
    "collapsed": true
   },
   "outputs": [],
   "source": []
  },
  {
   "cell_type": "code",
   "execution_count": null,
   "metadata": {
    "collapsed": true
   },
   "outputs": [],
   "source": []
  }
 ],
 "metadata": {
  "kernelspec": {
   "display_name": "Python 3",
   "language": "python",
   "name": "python3"
  },
  "language_info": {
   "codemirror_mode": {
    "name": "ipython",
    "version": 3
   },
   "file_extension": ".py",
   "mimetype": "text/x-python",
   "name": "python",
   "nbconvert_exporter": "python",
   "pygments_lexer": "ipython3",
   "version": "3.5.1"
  }
 },
 "nbformat": 4,
 "nbformat_minor": 0
}
