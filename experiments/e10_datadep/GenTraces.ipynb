{
 "cells": [
  {
   "cell_type": "code",
   "execution_count": 1,
   "metadata": {
    "collapsed": false
   },
   "outputs": [],
   "source": [
    "'''An attempt to classify a recursive computation from a for loop implementation \n",
    "using only a state trace of the register state of the 6502 processor it's simulated on.'''\n",
    "import random\n",
    "import numpy as np\n",
    "import glob\n",
    "from scipy import misc"
   ]
  },
  {
   "cell_type": "code",
   "execution_count": 2,
   "metadata": {
    "collapsed": true
   },
   "outputs": [],
   "source": [
    "#Parameters\n",
    "mode = 'sv'\n",
    "trace_dir = 'traces'\n",
    "image_dir = 'images'"
   ]
  },
  {
   "cell_type": "code",
   "execution_count": 3,
   "metadata": {
    "collapsed": false
   },
   "outputs": [
    {
     "name": "stdout",
     "output_type": "stream",
     "text": [
      "rm -rf *~ *.o *.map *.img *.lst *.out memcpy.s memcpy backup 'images' *.s traces tmp\r\n"
     ]
    }
   ],
   "source": [
    "#Clean up\n",
    "!make clean "
   ]
  },
  {
   "cell_type": "code",
   "execution_count": 6,
   "metadata": {
    "collapsed": false
   },
   "outputs": [
    {
     "name": "stdout",
     "output_type": "stream",
     "text": [
      "../../datasources/6502/ext/install/bin/cc65 -D START=1 -D MAX=101 -D__6502__ -t none -O -Oi --cpu 6502 forCount.c\n",
      "../../datasources/6502/ext/install/bin/ca65 --cpu 6502 forCount.s -l forCount.lst\n",
      "../../datasources/6502/ext/install/bin/ld65 -o forCount -C ../../datasources/6502/apps/cc/apps/bu6502.cfg  forCount.o ../../datasources/6502/apps/cc/apps/bu6502.lib   -m forCount.map\n",
      "[ -d 'backup' ] || mkdir backup\n",
      "mv *.lst *.map *.s backup\n",
      "[ -d images ] || mkdir images\n",
      "mv forCount 1_101forCount.img\n",
      "mv *.img images\n",
      "rm forCount.o\n",
      "../../datasources/6502/ext/install/bin/cc65 -D START=2 -D MAX=102 -D__6502__ -t none -O -Oi --cpu 6502 forCount.c\n",
      "../../datasources/6502/ext/install/bin/ca65 --cpu 6502 forCount.s -l forCount.lst\n",
      "../../datasources/6502/ext/install/bin/ld65 -o forCount -C ../../datasources/6502/apps/cc/apps/bu6502.cfg  forCount.o ../../datasources/6502/apps/cc/apps/bu6502.lib   -m forCount.map\n",
      "[ -d 'backup' ] || mkdir backup\n",
      "mv *.lst *.map *.s backup\n",
      "[ -d images ] || mkdir images\n",
      "mv forCount 2_102forCount.img\n",
      "mv *.img images\n",
      "rm forCount.o\n",
      "../../datasources/6502/ext/install/bin/cc65 -D START=3 -D MAX=103 -D__6502__ -t none -O -Oi --cpu 6502 forCount.c\n",
      "../../datasources/6502/ext/install/bin/ca65 --cpu 6502 forCount.s -l forCount.lst\n",
      "../../datasources/6502/ext/install/bin/ld65 -o forCount -C ../../datasources/6502/apps/cc/apps/bu6502.cfg  forCount.o ../../datasources/6502/apps/cc/apps/bu6502.lib   -m forCount.map\n",
      "[ -d 'backup' ] || mkdir backup\n",
      "mv *.lst *.map *.s backup\n",
      "[ -d images ] || mkdir images\n",
      "mv forCount 3_103forCount.img\n",
      "mv *.img images\n",
      "rm forCount.o\n",
      "../../datasources/6502/ext/install/bin/cc65 -D START=4 -D MAX=104 -D__6502__ -t none -O -Oi --cpu 6502 forCount.c\n",
      "../../datasources/6502/ext/install/bin/ca65 --cpu 6502 forCount.s -l forCount.lst\n",
      "../../datasources/6502/ext/install/bin/ld65 -o forCount -C ../../datasources/6502/apps/cc/apps/bu6502.cfg  forCount.o ../../datasources/6502/apps/cc/apps/bu6502.lib   -m forCount.map\n",
      "[ -d 'backup' ] || mkdir backup\n",
      "mv *.lst *.map *.s backup\n",
      "[ -d images ] || mkdir images\n",
      "mv forCount 4_104forCount.img\n",
      "mv *.img images\n",
      "rm forCount.o\n",
      "CPU times: user 11 ms, sys: 14.1 ms, total: 25.1 ms\n",
      "Wall time: 640 ms\n"
     ]
    }
   ],
   "source": [
    "%%time \n",
    "#Generate some 6502 images\n",
    "#Avoid rollover of the 8 bit regs by not hitting 256.\n",
    "#Avoid 0 because gave weird trace.\n",
    "for start in range(1,5):\n",
    "    !make START={start} MAX={start+100} IMGDIR={image_dir}"
   ]
  },
  {
   "cell_type": "code",
   "execution_count": 7,
   "metadata": {
    "collapsed": false
   },
   "outputs": [
    {
     "name": "stdout",
     "output_type": "stream",
     "text": [
      "CPU times: user 22.7 ms, sys: 20.3 ms, total: 43.1 ms\n",
      "Wall time: 2.22 s\n"
     ]
    }
   ],
   "source": [
    "%%time\n",
    "#Run images through 6520 simulator to generate traces.\n",
    "!mkdir -p {trace_dir}\n",
    "traces = !ls {image_dir}\n",
    "for t in traces:\n",
    "    !../../datasources/6502/6502 -t {mode} -o {trace_dir}/{t}.trc {image_dir}/{t} /dev/null 2> /dev/null"
   ]
  }
 ],
 "metadata": {
  "kernelspec": {
   "display_name": "Python 3",
   "language": "python",
   "name": "python3"
  },
  "language_info": {
   "codemirror_mode": {
    "name": "ipython",
    "version": 3
   },
   "file_extension": ".py",
   "mimetype": "text/x-python",
   "name": "python",
   "nbconvert_exporter": "python",
   "pygments_lexer": "ipython3",
   "version": "3.5.1"
  }
 },
 "nbformat": 4,
 "nbformat_minor": 0
}
