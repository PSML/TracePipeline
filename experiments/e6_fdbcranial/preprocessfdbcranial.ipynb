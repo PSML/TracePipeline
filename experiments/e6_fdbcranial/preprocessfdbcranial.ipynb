{
 "cells": [
  {
   "cell_type": "code",
   "execution_count": 2,
   "metadata": {
    "collapsed": false
   },
   "outputs": [
    {
     "name": "stdout",
     "output_type": "stream",
     "text": [
      "Starting with 5342 individuals and 110 features.\n"
     ]
    }
   ],
   "source": [
    "%matplotlib inline\n",
    "import pandas as pd\n",
    "import numpy as np\n",
    "import matplotlib as plt\n",
    "\n",
    "#Import cranial database \n",
    "df = pd.read_csv('../../datasources/fdb/cranial.csv')\n",
    "#This shuffles the rows.\n",
    "df = df.sample(frac=1)\n",
    "\n",
    "#Drop categorical data. We'll focus only on measurement data.\n",
    "del df['DB']\n",
    "del df['Item']\n",
    "del df['ID']\n",
    "del df['ContNum']\n",
    "del df['FDN']\n",
    "del df['Pop']\n",
    "del df['PopSex']\n",
    "del df['Ethnicity'] #Probably really important.\n",
    "del df['BirthYear']\n",
    "del df['Age'] #Probably really important.\n",
    "del df['Comments']\n",
    "\n",
    "#This col is basically empty and disturbs standardization.\n",
    "del df[\"MOW\"]\n",
    "\n",
    "rows, cols = df.shape \n",
    "print(\"Starting with\", rows, \"individuals and\", cols, \"features.\")"
   ]
  },
  {
   "cell_type": "code",
   "execution_count": null,
   "metadata": {
    "collapsed": false,
    "scrolled": true
   },
   "outputs": [],
   "source": [
    "#Consider our target col, Sex.\n",
    "print(\"Unique entries.\")\n",
    "df['Sex'].value_counts(dropna=False)"
   ]
  },
  {
   "cell_type": "code",
   "execution_count": null,
   "metadata": {
    "collapsed": false
   },
   "outputs": [],
   "source": [
    "#Clean N and Nan entries\n",
    "df = df[~(df.Sex.str.contains(\"N\") == True)]\n",
    "df = df.dropna(subset = ['Sex'])\n",
    "\n",
    "#Move from object to float.\n",
    "df['Sex'] = df['Sex'].map({'M':1.0, 'F':0.})\n",
    "df.describe()"
   ]
  },
  {
   "cell_type": "code",
   "execution_count": null,
   "metadata": {
    "collapsed": false
   },
   "outputs": [],
   "source": [
    "#Split into data and labels.\n",
    "X = df.drop(['Sex'], axis=1)\n",
    "y = df[['Sex']]"
   ]
  },
  {
   "cell_type": "code",
   "execution_count": null,
   "metadata": {
    "collapsed": false
   },
   "outputs": [],
   "source": [
    "#Split train test\n",
    "from sklearn.cross_validation import train_test_split\n",
    "X_train, X_test, y_train, y_test = train_test_split(X, y, test_size=0.2)"
   ]
  },
  {
   "cell_type": "code",
   "execution_count": null,
   "metadata": {
    "collapsed": false
   },
   "outputs": [],
   "source": [
    "X_train.isnull().sum().sum()"
   ]
  },
  {
   "cell_type": "code",
   "execution_count": null,
   "metadata": {
    "collapsed": false
   },
   "outputs": [],
   "source": [
    "X_train.shape, X_test.shape, y_train.shape, y_test.shape"
   ]
  },
  {
   "cell_type": "code",
   "execution_count": null,
   "metadata": {
    "collapsed": false
   },
   "outputs": [],
   "source": [
    "#Standardize df. Can't use scikit's scale because it doesn't like Nan.\n",
    "X_train_mean = X_train.mean()\n",
    "X_train_std = X_train.std()\n",
    "X_train = (X_train - X_train_mean) / (X_train_std)\n",
    "#Intentionally using train stats for test set.\n",
    "X_test = ( X_test - X_train_mean) / (X_train_std)\n",
    "X_train.describe()"
   ]
  },
  {
   "cell_type": "code",
   "execution_count": null,
   "metadata": {
    "collapsed": false
   },
   "outputs": [],
   "source": [
    "#The imputer. I haven't looked closely at this algo. Try other variations.\n",
    "from fancyimpute import KNN\n",
    "X_train_filled = pd.DataFrame(KNN(k=3).complete(X_train))\n",
    "X_test_filled = pd.DataFrame(KNN(k=3).complete(X_test))"
   ]
  },
  {
   "cell_type": "code",
   "execution_count": null,
   "metadata": {
    "collapsed": false
   },
   "outputs": [],
   "source": [
    "#Num zero entries\n",
    "(X_train_filled == 0).astype(int).sum().sum(),(X_test_filled == 0).astype(int).sum().sum()"
   ]
  },
  {
   "cell_type": "code",
   "execution_count": null,
   "metadata": {
    "collapsed": false
   },
   "outputs": [],
   "source": [
    "#Impute zeros with mean. Could do this better.\n",
    "#Think this introduces an improbable bug when the train set\n",
    "#Has representation in a col that the test set doesn't or \n",
    "#Vice versa. Ignoring it for now. \n",
    "from sklearn.preprocessing import Imputer\n",
    "imp = Imputer(missing_values=0, strategy='mean', axis=0)\n",
    "X_train_filled = pd.DataFrame(imp.fit_transform(X_train_filled))\n",
    "X_train_filled = pd.DataFrame(imp.transform(X_train_filled))\n",
    "X_test_filled = pd.DataFrame(imp.fit_transform(X_test_filled))"
   ]
  },
  {
   "cell_type": "code",
   "execution_count": null,
   "metadata": {
    "collapsed": false
   },
   "outputs": [],
   "source": [
    "#No zero values\n",
    "(X_train_filled == 0).astype(int).sum().sum(), (X_test_filled == 0).astype(int).sum().sum()"
   ]
  },
  {
   "cell_type": "code",
   "execution_count": null,
   "metadata": {
    "collapsed": false
   },
   "outputs": [],
   "source": [
    "#Notice that the training (and testing) set is no longer standardized\n",
    "X_train_filled.describe()"
   ]
  },
  {
   "cell_type": "code",
   "execution_count": null,
   "metadata": {
    "collapsed": false
   },
   "outputs": [],
   "source": [
    "#Should we standardize again?\n",
    "from sklearn import preprocessing\n",
    "scaler = preprocessing.StandardScaler().fit(X_train_filled)\n",
    "X_train_filled = pd.DataFrame(scaler.transform(X_train_filled))\n",
    "#Uses test stats\n",
    "X_test_filled = pd.DataFrame(scaler.transform(X_test_filled))"
   ]
  },
  {
   "cell_type": "code",
   "execution_count": null,
   "metadata": {
    "collapsed": false
   },
   "outputs": [],
   "source": [
    "#Save to disk\n",
    "X_train_filled.to_csv(\"data/X_train_preproc.csv\", index=False)\n",
    "#Ravel strips col name and reindexes\n",
    "pd.DataFrame(np.ravel(y_train)).to_csv(\"data/y_train_preproc.csv\", index=False)\n",
    "\n",
    "X_test_filled.to_csv(\"data/X_test_preproc.csv\", index=False)\n",
    "pd.DataFrame(np.ravel(y_test)).to_csv(\"data/y_test_preproc.csv\", index=False)"
   ]
  },
  {
   "cell_type": "code",
   "execution_count": null,
   "metadata": {
    "collapsed": true
   },
   "outputs": [],
   "source": []
  }
 ],
 "metadata": {
  "kernelspec": {
   "display_name": "Python 3",
   "language": "python",
   "name": "python3"
  },
  "language_info": {
   "codemirror_mode": {
    "name": "ipython",
    "version": 3
   },
   "file_extension": ".py",
   "mimetype": "text/x-python",
   "name": "python",
   "nbconvert_exporter": "python",
   "pygments_lexer": "ipython3",
   "version": "3.4.3"
  }
 },
 "nbformat": 4,
 "nbformat_minor": 0
}
