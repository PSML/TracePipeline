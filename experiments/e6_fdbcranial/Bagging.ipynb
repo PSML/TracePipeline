{
 "cells": [
  {
   "cell_type": "code",
   "execution_count": 4,
   "metadata": {
    "collapsed": true
   },
   "outputs": [],
   "source": [
    "import numpy as np\n",
    "import pandas as pd\n",
    "X_train = pd.read_csv(\"data/X_train_preproc.csv\")\n",
    "y_train = pd.read_csv(\"data/y_train_preproc.csv\")\n",
    "X_test  = pd.read_csv(\"data/X_test_preproc.csv\")\n",
    "y_test  = pd.read_csv(\"data/y_test_preproc.csv\")"
   ]
  },
  {
   "cell_type": "code",
   "execution_count": 5,
   "metadata": {
    "collapsed": false
   },
   "outputs": [
    {
     "data": {
      "text/plain": [
       "0.9106217616580311"
      ]
     },
     "execution_count": 5,
     "metadata": {},
     "output_type": "execute_result"
    }
   ],
   "source": [
    "#Single classifier\n",
    "from sklearn import svm\n",
    "clf = svm.SVC()\n",
    "clf.fit( X_train, np.ravel(y_train) )\n",
    "clf.score(X_test, np.ravel(y_test))"
   ]
  },
  {
   "cell_type": "code",
   "execution_count": 8,
   "metadata": {
    "collapsed": false
   },
   "outputs": [
    {
     "data": {
      "text/plain": [
       "0.9106217616580311"
      ]
     },
     "execution_count": 8,
     "metadata": {},
     "output_type": "execute_result"
    }
   ],
   "source": [
    "#Multiple bagged classifiers. \n",
    "from sklearn.ensemble import BaggingClassifier\n",
    "clf = BaggingClassifier(svm.SVC(), n_estimators=200, n_jobs=4)\n",
    "clf.fit(X_train, np.ravel(y_train))\n",
    "clf.score(X_test, np.ravel(y_test))"
   ]
  },
  {
   "cell_type": "code",
   "execution_count": null,
   "metadata": {
    "collapsed": true
   },
   "outputs": [],
   "source": []
  }
 ],
 "metadata": {
  "kernelspec": {
   "display_name": "Python 3",
   "language": "python",
   "name": "python3"
  },
  "language_info": {
   "codemirror_mode": {
    "name": "ipython",
    "version": 3
   },
   "file_extension": ".py",
   "mimetype": "text/x-python",
   "name": "python",
   "nbconvert_exporter": "python",
   "pygments_lexer": "ipython3",
   "version": "3.4.3"
  }
 },
 "nbformat": 4,
 "nbformat_minor": 0
}
