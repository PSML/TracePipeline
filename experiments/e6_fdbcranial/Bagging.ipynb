{
 "cells": [
  {
   "cell_type": "code",
   "execution_count": 4,
   "metadata": {
    "collapsed": true
   },
   "outputs": [],
   "source": [
    "import numpy as np\n",
    "import pandas as pd\n",
    "X_train = pd.read_csv(\"data/X_train_preproc.csv\")\n",
    "y_train = pd.read_csv(\"data/y_train_preproc.csv\")"
   ]
  },
  {
   "cell_type": "code",
   "execution_count": 7,
   "metadata": {
    "collapsed": false
   },
   "outputs": [
    {
     "name": "stdout",
     "output_type": "stream",
     "text": [
      "[ 0.86870229  0.8778626   0.8853211   0.87289433  0.91577335  0.88820827\n",
      "  0.8805513   0.89739663]\n"
     ]
    },
    {
     "data": {
      "text/plain": [
       "'Accuracy: 0.8858 (+/- 0.03)'"
      ]
     },
     "execution_count": 7,
     "metadata": {},
     "output_type": "execute_result"
    }
   ],
   "source": [
    "#Single classifier\n",
    "from sklearn import svm\n",
    "from sklearn import cross_validation\n",
    "clf = svm.SVC()\n",
    "scores = cross_validation.cross_val_score(clf, X_train, np.ravel(y_train), cv=8, n_jobs=8)\n",
    "print(scores)\n",
    "\"Accuracy: %0.4f (+/- %0.2f)\" % (scores.mean(), scores.std() * 2)"
   ]
  },
  {
   "cell_type": "code",
   "execution_count": 11,
   "metadata": {
    "collapsed": false
   },
   "outputs": [
    {
     "name": "stdout",
     "output_type": "stream",
     "text": [
      "[ 0.86564885  0.8870229   0.882263    0.86676876  0.91730475  0.88514548\n",
      "  0.8820827   0.89739663]\n"
     ]
    },
    {
     "data": {
      "text/plain": [
       "'Accuracy: 0.8855 (+/- 0.03)'"
      ]
     },
     "execution_count": 11,
     "metadata": {},
     "output_type": "execute_result"
    }
   ],
   "source": [
    "#Multiple bagged classifiers. \n",
    "from sklearn.ensemble import BaggingClassifier\n",
    "clf = BaggingClassifier(svm.SVC(), n_estimators=5)\n",
    "scores = cross_validation.cross_val_score(clf, X_train, np.ravel(y_train), cv=8, n_jobs=8)\n",
    "print(scores)\n",
    "\"Accuracy: %0.4f (+/- %0.2f)\" % (scores.mean(), scores.std() * 2)\n"
   ]
  },
  {
   "cell_type": "code",
   "execution_count": null,
   "metadata": {
    "collapsed": true
   },
   "outputs": [],
   "source": []
  }
 ],
 "metadata": {
  "kernelspec": {
   "display_name": "Python 3",
   "language": "python",
   "name": "python3"
  },
  "language_info": {
   "codemirror_mode": {
    "name": "ipython",
    "version": 3
   },
   "file_extension": ".py",
   "mimetype": "text/x-python",
   "name": "python",
   "nbconvert_exporter": "python",
   "pygments_lexer": "ipython3",
   "version": "3.5.1"
  }
 },
 "nbformat": 4,
 "nbformat_minor": 0
}
