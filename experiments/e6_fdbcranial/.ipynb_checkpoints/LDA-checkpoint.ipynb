{
 "cells": [
  {
   "cell_type": "code",
   "execution_count": 33,
   "metadata": {
    "collapsed": true
   },
   "outputs": [],
   "source": [
    "import pandas as pd\n",
    "import numpy as np\n",
    "import seaborn as sns\n",
    "from sklearn.discriminant_analysis import LinearDiscriminantAnalysis\n",
    "\n",
    "#Bring in pre-processed data\n",
    "X_train = pd.read_csv(\"data/X_train_preproc.csv\")\n",
    "y_train = pd.read_csv(\"data/y_train_preproc.csv\")\n",
    "X_test  = pd.read_csv(\"data/X_test_preproc.csv\")\n",
    "y_test  = pd.read_csv(\"data/y_test_preproc.csv\")"
   ]
  },
  {
   "cell_type": "code",
   "execution_count": 27,
   "metadata": {
    "collapsed": false
   },
   "outputs": [],
   "source": [
    "LDA = LDA(n_components=81)\n",
    "X_train_r = pca.fit_transform(X_train)\n"
   ]
  },
  {
   "cell_type": "code",
   "execution_count": 28,
   "metadata": {
    "collapsed": false
   },
   "outputs": [
    {
     "name": "stdout",
     "output_type": "stream",
     "text": [
      "explained variance ratio (first two components): [ 0.22790621  0.090812    0.06011555  0.05425932  0.03723363  0.03388695\n",
      "  0.02896622  0.02499971  0.02255817  0.0220148   0.01949439  0.01893713\n",
      "  0.01591905  0.01531179  0.01426286  0.0133177   0.01257135  0.01172703\n",
      "  0.01124237  0.01021997  0.00972577  0.0094079   0.0088631   0.00854393\n",
      "  0.00835759  0.00797202  0.00774818  0.00742169  0.00724945  0.0070691\n",
      "  0.00657746  0.00652832  0.00623431  0.00605602  0.00590973  0.00567058\n",
      "  0.00558269  0.00546412  0.00510123  0.004872    0.00481627  0.00469922\n",
      "  0.00458264  0.00448205  0.00429362  0.0041312   0.00397795  0.00389976\n",
      "  0.00369793  0.00348073  0.0033714   0.00325895  0.00322844  0.00314626\n",
      "  0.00307532  0.00297982  0.00288833  0.0026634   0.00261355  0.00253361\n",
      "  0.00236635  0.00229424  0.0021791   0.00211316  0.00196724  0.00185192\n",
      "  0.00174833  0.00163375  0.00157167  0.00154696  0.00151529  0.00140603\n",
      "  0.00135913  0.00133404  0.00125051  0.00113849  0.00109963  0.00107786\n",
      "  0.00104605  0.00096022  0.00093427]\n"
     ]
    },
    {
     "data": {
      "text/plain": [
       "0.99032609801991689"
      ]
     },
     "execution_count": 28,
     "metadata": {},
     "output_type": "execute_result"
    }
   ],
   "source": [
    "# Percentage of variance explained for each components\n",
    "print('explained variance ratio (first two components): %s'\n",
    "      % str(pca.explained_variance_ratio_))\n",
    "pca.explained_variance_ratio_.sum()"
   ]
  },
  {
   "cell_type": "code",
   "execution_count": null,
   "metadata": {
    "collapsed": true
   },
   "outputs": [],
   "source": []
  },
  {
   "cell_type": "code",
   "execution_count": 34,
   "metadata": {
    "collapsed": true
   },
   "outputs": [],
   "source": [
    "X_train.to_csv(\"data/X_train_preproc.csv\", index=False)\n",
    "X_test.to_csv(\"data/X_test_preproc.csv\", index=False)"
   ]
  },
  {
   "cell_type": "code",
   "execution_count": null,
   "metadata": {
    "collapsed": true
   },
   "outputs": [],
   "source": []
  }
 ],
 "metadata": {
  "kernelspec": {
   "display_name": "Python 3",
   "language": "python",
   "name": "python3"
  },
  "language_info": {
   "codemirror_mode": {
    "name": "ipython",
    "version": 3
   },
   "file_extension": ".py",
   "mimetype": "text/x-python",
   "name": "python",
   "nbconvert_exporter": "python",
   "pygments_lexer": "ipython3",
   "version": "3.4.3"
  }
 },
 "nbformat": 4,
 "nbformat_minor": 0
}
