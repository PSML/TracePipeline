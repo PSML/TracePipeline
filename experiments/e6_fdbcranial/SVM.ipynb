{
 "cells": [
  {
   "cell_type": "code",
   "execution_count": 1,
   "metadata": {
    "collapsed": false
   },
   "outputs": [],
   "source": [
    "%matplotlib inline\n",
    "import pandas as pd\n",
    "import numpy as np\n",
    "import seaborn as sns\n",
    "#Bring in pre-processed data\n",
    "X_train = pd.read_csv(\"data/X_train_preproc.csv\")\n",
    "y_train = pd.read_csv(\"data/y_train_preproc.csv\")\n",
    "X_test  = pd.read_csv(\"data/X_test_preproc.csv\")\n",
    "y_test  = pd.read_csv(\"data/y_test_preproc.csv\")"
   ]
  },
  {
   "cell_type": "code",
   "execution_count": 2,
   "metadata": {
    "collapsed": false
   },
   "outputs": [
    {
     "data": {
      "text/plain": [
       "SVC(C=1.0, cache_size=200, class_weight=None, coef0=0.0,\n",
       "  decision_function_shape=None, degree=3, gamma='auto', kernel='rbf',\n",
       "  max_iter=-1, probability=False, random_state=None, shrinking=True,\n",
       "  tol=0.001, verbose=False)"
      ]
     },
     "execution_count": 2,
     "metadata": {},
     "output_type": "execute_result"
    }
   ],
   "source": [
    "from sklearn import svm\n",
    "clf = svm.SVC()\n",
    "clf.fit( X_train, np.ravel(y_train) )"
   ]
  },
  {
   "cell_type": "code",
   "execution_count": 3,
   "metadata": {
    "collapsed": false
   },
   "outputs": [
    {
     "data": {
      "text/plain": [
       "0.87133396404919583"
      ]
     },
     "execution_count": 3,
     "metadata": {},
     "output_type": "execute_result"
    }
   ],
   "source": [
    "#Test set accuracy\n",
    "clf.score(X_test, np.ravel(y_test))"
   ]
  },
  {
   "cell_type": "code",
   "execution_count": 4,
   "metadata": {
    "collapsed": false
   },
   "outputs": [
    {
     "data": {
      "text/plain": [
       "<matplotlib.axes._subplots.AxesSubplot at 0x108d92518>"
      ]
     },
     "execution_count": 4,
     "metadata": {},
     "output_type": "execute_result"
    },
    {
     "data": {
      "image/png": "[encoded data removed]",
      "text/plain": [
       "<matplotlib.figure.Figure at 0x108d92ac8>"
      ]
     },
     "metadata": {},
     "output_type": "display_data"
    }
   ],
   "source": [
    "#Test set confusion.\n",
    "from sklearn.metrics import confusion_matrix\n",
    "sns.heatmap(confusion_matrix(y_test, clf.predict(X_test)), annot=True)"
   ]
  },
  {
   "cell_type": "code",
   "execution_count": 11,
   "metadata": {
    "collapsed": false
   },
   "outputs": [
    {
     "data": {
      "text/plain": [
       "array([ 0.89467456,  0.87692308,  0.87218935,  0.87692308,  0.8591716 ])"
      ]
     },
     "execution_count": 11,
     "metadata": {},
     "output_type": "execute_result"
    }
   ],
   "source": [
    "#Cross validation performance.\n",
    "from sklearn import cross_validation\n",
    "clf = svm.SVC()\n",
    "scores = cross_validation.cross_val_score(clf, X_train, np.ravel(y_train), cv=5)\n",
    "scores"
   ]
  },
  {
   "cell_type": "code",
   "execution_count": 12,
   "metadata": {
    "collapsed": false
   },
   "outputs": [
    {
     "data": {
      "text/plain": [
       "'Accuracy: 0.88 (+/- 0.02)'"
      ]
     },
     "execution_count": 12,
     "metadata": {},
     "output_type": "execute_result"
    }
   ],
   "source": [
    "\"Accuracy: %0.2f (+/- %0.2f)\" % (scores.mean(), scores.std() * 2)"
   ]
  },
  {
   "cell_type": "code",
   "execution_count": 8,
   "metadata": {
    "collapsed": false
   },
   "outputs": [
    {
     "data": {
      "text/plain": [
       "{'C': 1.0,\n",
       " 'cache_size': 200,\n",
       " 'class_weight': None,\n",
       " 'coef0': 0.0,\n",
       " 'decision_function_shape': None,\n",
       " 'degree': 3,\n",
       " 'gamma': 'auto',\n",
       " 'kernel': 'rbf',\n",
       " 'max_iter': -1,\n",
       " 'probability': False,\n",
       " 'random_state': None,\n",
       " 'shrinking': True,\n",
       " 'tol': 0.001,\n",
       " 'verbose': False}"
      ]
     },
     "execution_count": 8,
     "metadata": {},
     "output_type": "execute_result"
    }
   ],
   "source": [
    "#All possible hyperparameters\n",
    "clf.get_params()"
   ]
  },
  {
   "cell_type": "code",
   "execution_count": 11,
   "metadata": {
    "collapsed": false
   },
   "outputs": [],
   "source": [
    "from __future__ import print_function\n",
    "\n",
    "from sklearn import datasets\n",
    "from sklearn.cross_validation import train_test_split\n",
    "from sklearn.grid_search import GridSearchCV\n",
    "from sklearn.metrics import classification_report\n",
    "from sklearn.svm import SVC\n",
    "\n",
    "# Set the parameters by cross-validation\n",
    "# When included, didn't finish running for long time \n",
    "#{'kernel': ['linear'], 'C': [1, 10, 100, 1000]}\n",
    "\n",
    "tuned_parameters = [{'kernel': ['rbf'], 'gamma': [1e-2, 1e-3, 1e-4, 1e-5],\n",
    "                     'C': [1, 10, 50, 100, 1000]}]\n",
    "\n",
    "scores = ['precision', 'recall']\n",
    "\n"
   ]
  },
  {
   "cell_type": "code",
   "execution_count": 12,
   "metadata": {
    "collapsed": false
   },
   "outputs": [
    {
     "name": "stdout",
     "output_type": "stream",
     "text": [
      "# Tuning hyper-parameters for precision\n",
      "\n",
      "Best parameters set found on development set:\n",
      "\n",
      "{'kernel': 'rbf', 'C': 10, 'gamma': 0.001}\n",
      "\n",
      "Grid scores on development set:\n",
      "\n",
      "0.875 (+/-0.022) for {'kernel': 'rbf', 'C': 1, 'gamma': 0.01}\n",
      "0.858 (+/-0.031) for {'kernel': 'rbf', 'C': 1, 'gamma': 0.001}\n",
      "0.840 (+/-0.021) for {'kernel': 'rbf', 'C': 1, 'gamma': 0.0001}\n",
      "0.788 (+/-0.046) for {'kernel': 'rbf', 'C': 1, 'gamma': 1e-05}\n",
      "0.865 (+/-0.021) for {'kernel': 'rbf', 'C': 10, 'gamma': 0.01}\n",
      "0.883 (+/-0.020) for {'kernel': 'rbf', 'C': 10, 'gamma': 0.001}\n",
      "0.857 (+/-0.028) for {'kernel': 'rbf', 'C': 10, 'gamma': 0.0001}\n",
      "0.840 (+/-0.021) for {'kernel': 'rbf', 'C': 10, 'gamma': 1e-05}\n",
      "0.862 (+/-0.025) for {'kernel': 'rbf', 'C': 50, 'gamma': 0.01}\n",
      "0.880 (+/-0.025) for {'kernel': 'rbf', 'C': 50, 'gamma': 0.001}\n",
      "0.873 (+/-0.027) for {'kernel': 'rbf', 'C': 50, 'gamma': 0.0001}\n",
      "0.852 (+/-0.029) for {'kernel': 'rbf', 'C': 50, 'gamma': 1e-05}\n",
      "0.864 (+/-0.025) for {'kernel': 'rbf', 'C': 100, 'gamma': 0.01}\n",
      "0.876 (+/-0.023) for {'kernel': 'rbf', 'C': 100, 'gamma': 0.001}\n",
      "0.874 (+/-0.025) for {'kernel': 'rbf', 'C': 100, 'gamma': 0.0001}\n",
      "0.856 (+/-0.028) for {'kernel': 'rbf', 'C': 100, 'gamma': 1e-05}\n",
      "0.864 (+/-0.026) for {'kernel': 'rbf', 'C': 1000, 'gamma': 0.01}\n",
      "0.852 (+/-0.016) for {'kernel': 'rbf', 'C': 1000, 'gamma': 0.001}\n",
      "0.877 (+/-0.021) for {'kernel': 'rbf', 'C': 1000, 'gamma': 0.0001}\n",
      "0.872 (+/-0.024) for {'kernel': 'rbf', 'C': 1000, 'gamma': 1e-05}\n",
      "\n",
      "Detailed classification report:\n",
      "\n",
      "The model is trained on the full development set.\n",
      "The scores are computed on the full evaluation set.\n",
      "\n",
      "             precision    recall  f1-score   support\n",
      "\n",
      "        0.0       0.82      0.82      0.82       400\n",
      "        1.0       0.89      0.89      0.89       657\n",
      "\n",
      "avg / total       0.86      0.86      0.86      1057\n",
      "\n",
      "\n"
     ]
    }
   ],
   "source": [
    "for score in scores:\n",
    "    print(\"# Tuning hyper-parameters for %s\" % score)\n",
    "    print()\n",
    "\n",
    "    clf = GridSearchCV(SVC(C=1), tuned_parameters, cv=5, n_jobs=4,\n",
    "                       scoring='%s_weighted' % score)\n",
    "    clf.fit(X_train, np.ravel(y_train))\n",
    "\n",
    "    print(\"Best parameters set found on development set:\")\n",
    "    print()\n",
    "    print(clf.best_params_)\n",
    "    print()\n",
    "    print(\"Grid scores on development set:\")\n",
    "    print()\n",
    "    for params, mean_score, scores in clf.grid_scores_:\n",
    "        print(\"%0.3f (+/-%0.03f) for %r\"\n",
    "              % (mean_score, scores.std() * 2, params))\n",
    "    print()\n",
    "\n",
    "    print(\"Detailed classification report:\")\n",
    "    print()\n",
    "    print(\"The model is trained on the full development set.\")\n",
    "    print(\"The scores are computed on the full evaluation set.\")\n",
    "    print()\n",
    "    y_true, y_pred = y_test, clf.predict(X_test)\n",
    "    print(classification_report(y_true, y_pred))\n",
    "    print()\n"
   ]
  },
  {
   "cell_type": "code",
   "execution_count": null,
   "metadata": {
    "collapsed": true
   },
   "outputs": [],
   "source": [
    "np.linrange()"
   ]
  },
  {
   "cell_type": "code",
   "execution_count": null,
   "metadata": {
    "collapsed": true
   },
   "outputs": [],
   "source": [
    "'kernel': 'rbf', 'C': 10, 'gamma': 0.001\n",
    "tuned_parameters = [{'kernel': ['rbf'], 'gamma': [1e-2, 1e-3, 1e-4, 1e-5],\n",
    "                     'C': [1, 10, 50, 100, 1000]}]"
   ]
  },
  {
   "cell_type": "code",
   "execution_count": 13,
   "metadata": {
    "collapsed": false
   },
   "outputs": [
    {
     "name": "stdout",
     "output_type": "stream",
     "text": [
      "Automatically created module for IPython interactive environment\n",
      "# Tuning hyper-parameters for precision\n",
      "\n",
      "Best parameters set found on development set:\n",
      "\n",
      "{'gamma': 0.001, 'kernel': 'rbf', 'C': 10}\n",
      "\n",
      "Grid scores on development set:\n",
      "\n",
      "0.987 (+/-0.018) for {'gamma': 0.001, 'kernel': 'rbf', 'C': 1}\n",
      "0.959 (+/-0.030) for {'gamma': 0.0001, 'kernel': 'rbf', 'C': 1}\n",
      "0.988 (+/-0.018) for {'gamma': 0.001, 'kernel': 'rbf', 'C': 10}\n",
      "0.982 (+/-0.027) for {'gamma': 0.0001, 'kernel': 'rbf', 'C': 10}\n",
      "0.988 (+/-0.018) for {'gamma': 0.001, 'kernel': 'rbf', 'C': 100}\n",
      "0.982 (+/-0.026) for {'gamma': 0.0001, 'kernel': 'rbf', 'C': 100}\n",
      "0.988 (+/-0.018) for {'gamma': 0.001, 'kernel': 'rbf', 'C': 1000}\n",
      "0.982 (+/-0.026) for {'gamma': 0.0001, 'kernel': 'rbf', 'C': 1000}\n",
      "0.974 (+/-0.014) for {'kernel': 'linear', 'C': 1}\n",
      "0.974 (+/-0.014) for {'kernel': 'linear', 'C': 10}\n",
      "0.974 (+/-0.014) for {'kernel': 'linear', 'C': 100}\n",
      "0.974 (+/-0.014) for {'kernel': 'linear', 'C': 1000}\n",
      "\n",
      "Detailed classification report:\n",
      "\n",
      "The model is trained on the full development set.\n",
      "The scores are computed on the full evaluation set.\n",
      "\n",
      "             precision    recall  f1-score   support\n",
      "\n",
      "          0       1.00      1.00      1.00        89\n",
      "          1       0.97      1.00      0.98        90\n",
      "          2       0.99      0.98      0.98        92\n",
      "          3       1.00      0.99      0.99        93\n",
      "          4       1.00      1.00      1.00        76\n",
      "          5       0.99      0.98      0.99       108\n",
      "          6       0.99      1.00      0.99        89\n",
      "          7       0.99      1.00      0.99        78\n",
      "          8       1.00      0.98      0.99        92\n",
      "          9       0.99      0.99      0.99        92\n",
      "\n",
      "avg / total       0.99      0.99      0.99       899\n",
      "\n",
      "\n",
      "# Tuning hyper-parameters for recall\n",
      "\n",
      "Best parameters set found on development set:\n",
      "\n",
      "{'gamma': 0.001, 'kernel': 'rbf', 'C': 10}\n",
      "\n",
      "Grid scores on development set:\n",
      "\n",
      "0.986 (+/-0.021) for {'gamma': 0.001, 'kernel': 'rbf', 'C': 1}\n",
      "0.958 (+/-0.029) for {'gamma': 0.0001, 'kernel': 'rbf', 'C': 1}\n",
      "0.987 (+/-0.021) for {'gamma': 0.001, 'kernel': 'rbf', 'C': 10}\n",
      "0.981 (+/-0.029) for {'gamma': 0.0001, 'kernel': 'rbf', 'C': 10}\n",
      "0.987 (+/-0.021) for {'gamma': 0.001, 'kernel': 'rbf', 'C': 100}\n",
      "0.981 (+/-0.027) for {'gamma': 0.0001, 'kernel': 'rbf', 'C': 100}\n",
      "0.987 (+/-0.021) for {'gamma': 0.001, 'kernel': 'rbf', 'C': 1000}\n",
      "0.981 (+/-0.027) for {'gamma': 0.0001, 'kernel': 'rbf', 'C': 1000}\n",
      "0.973 (+/-0.015) for {'kernel': 'linear', 'C': 1}\n",
      "0.973 (+/-0.015) for {'kernel': 'linear', 'C': 10}\n",
      "0.973 (+/-0.015) for {'kernel': 'linear', 'C': 100}\n",
      "0.973 (+/-0.015) for {'kernel': 'linear', 'C': 1000}\n",
      "\n",
      "Detailed classification report:\n",
      "\n",
      "The model is trained on the full development set.\n",
      "The scores are computed on the full evaluation set.\n",
      "\n",
      "             precision    recall  f1-score   support\n",
      "\n",
      "          0       1.00      1.00      1.00        89\n",
      "          1       0.97      1.00      0.98        90\n",
      "          2       0.99      0.98      0.98        92\n",
      "          3       1.00      0.99      0.99        93\n",
      "          4       1.00      1.00      1.00        76\n",
      "          5       0.99      0.98      0.99       108\n",
      "          6       0.99      1.00      0.99        89\n",
      "          7       0.99      1.00      0.99        78\n",
      "          8       1.00      0.98      0.99        92\n",
      "          9       0.99      0.99      0.99        92\n",
      "\n",
      "avg / total       0.99      0.99      0.99       899\n",
      "\n",
      "\n"
     ]
    }
   ],
   "source": [
    "from __future__ import print_function\n",
    "\n",
    "from sklearn import datasets\n",
    "from sklearn.cross_validation import train_test_split\n",
    "from sklearn.grid_search import GridSearchCV\n",
    "from sklearn.metrics import classification_report\n",
    "from sklearn.svm import SVC\n",
    "\n",
    "print(__doc__)\n",
    "\n",
    "# Loading the Digits dataset\n",
    "digits = datasets.load_digits()\n",
    "\n",
    "# To apply an classifier on this data, we need to flatten the image, to\n",
    "# turn the data in a (samples, feature) matrix:\n",
    "n_samples = len(digits.images)\n",
    "X = digits.images.reshape((n_samples, -1))\n",
    "y = digits.target\n",
    "\n",
    "# Split the dataset in two equal parts\n",
    "X_train, X_test, y_train, y_test = train_test_split(\n",
    "    X, y, test_size=0.5, random_state=0)\n",
    "\n",
    "# Set the parameters by cross-validation\n",
    "tuned_parameters = [{'kernel': ['rbf'], 'gamma': [1e-3, 1e-4],\n",
    "                     'C': [1, 10, 100, 1000]},\n",
    "                    {'kernel': ['linear'], 'C': [1, 10, 100, 1000]}]\n",
    "\n",
    "scores = ['precision', 'recall']\n",
    "\n",
    "for score in scores:\n",
    "    print(\"# Tuning hyper-parameters for %s\" % score)\n",
    "    print()\n",
    "\n",
    "    clf = GridSearchCV(SVC(C=1), tuned_parameters, cv=5,\n",
    "                       scoring='%s_weighted' % score)\n",
    "    clf.fit(X_train, y_train)\n",
    "\n",
    "    print(\"Best parameters set found on development set:\")\n",
    "    print()\n",
    "    print(clf.best_params_)\n",
    "    print()\n",
    "    print(\"Grid scores on development set:\")\n",
    "    print()\n",
    "    for params, mean_score, scores in clf.grid_scores_:\n",
    "        print(\"%0.3f (+/-%0.03f) for %r\"\n",
    "              % (mean_score, scores.std() * 2, params))\n",
    "    print()\n",
    "\n",
    "    print(\"Detailed classification report:\")\n",
    "    print()\n",
    "    print(\"The model is trained on the full development set.\")\n",
    "    print(\"The scores are computed on the full evaluation set.\")\n",
    "    print()\n",
    "    y_true, y_pred = y_test, clf.predict(X_test)\n",
    "    print(classification_report(y_true, y_pred))\n",
    "    print()\n",
    "\n",
    "# Note the problem is too easy: the hyperparameter plateau is too flat and the\n",
    "# output model is the same for precision and recall with ties in quality."
   ]
  },
  {
   "cell_type": "code",
   "execution_count": null,
   "metadata": {
    "collapsed": true
   },
   "outputs": [],
   "source": []
  }
 ],
 "metadata": {
  "kernelspec": {
   "display_name": "Python 3",
   "language": "python",
   "name": "python3"
  },
  "language_info": {
   "codemirror_mode": {
    "name": "ipython",
    "version": 3
   },
   "file_extension": ".py",
   "mimetype": "text/x-python",
   "name": "python",
   "nbconvert_exporter": "python",
   "pygments_lexer": "ipython3",
   "version": "3.4.3"
  }
 },
 "nbformat": 4,
 "nbformat_minor": 0
}
