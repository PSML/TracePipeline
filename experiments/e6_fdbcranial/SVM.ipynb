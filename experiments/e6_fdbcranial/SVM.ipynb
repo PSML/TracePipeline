{
 "cells": [
  {
   "cell_type": "code",
   "execution_count": 152,
   "metadata": {
    "collapsed": false
   },
   "outputs": [],
   "source": [
    "%matplotlib inline\n",
    "import pandas as pd\n",
    "import numpy as np\n",
    "import seaborn as sns\n",
    "#Bring in pre-processed data\n",
    "X_train = pd.read_csv(\"data/X_train_preproc.csv\")\n",
    "y_train = pd.read_csv(\"data/y_train_preproc.csv\")\n",
    "X_test  = pd.read_csv(\"data/X_test_preproc.csv\")\n",
    "y_test  = pd.read_csv(\"data/y_test_preproc.csv\")"
   ]
  },
  {
   "cell_type": "code",
   "execution_count": 153,
   "metadata": {
    "collapsed": false
   },
   "outputs": [
    {
     "data": {
      "text/plain": [
       "SVC(C=1.0, cache_size=200, class_weight=None, coef0=0.0,\n",
       "  decision_function_shape=None, degree=3, gamma='auto', kernel='rbf',\n",
       "  max_iter=-1, probability=False, random_state=None, shrinking=True,\n",
       "  tol=0.001, verbose=False)"
      ]
     },
     "execution_count": 153,
     "metadata": {},
     "output_type": "execute_result"
    }
   ],
   "source": [
    "from sklearn import svm\n",
    "clf = svm.SVC()\n",
    "clf.fit( X_train, np.ravel(y_train) )"
   ]
  },
  {
   "cell_type": "code",
   "execution_count": 154,
   "metadata": {
    "collapsed": false
   },
   "outputs": [
    {
     "data": {
      "text/plain": [
       "0.94339622641509435"
      ]
     },
     "execution_count": 154,
     "metadata": {},
     "output_type": "execute_result"
    }
   ],
   "source": [
    "#Test set accuracy\n",
    "clf.score(X_test, np.ravel(y_test))"
   ]
  },
  {
   "cell_type": "code",
   "execution_count": 155,
   "metadata": {
    "collapsed": false
   },
   "outputs": [
    {
     "data": {
      "text/plain": [
       "<matplotlib.axes._subplots.AxesSubplot at 0x10dd56fd0>"
      ]
     },
     "execution_count": 155,
     "metadata": {},
     "output_type": "execute_result"
    },
    {
     "data": {
      "image/png": "[encoded data removed]",
      "text/plain": [
       "<matplotlib.figure.Figure at 0x10dd0a128>"
      ]
     },
     "metadata": {},
     "output_type": "display_data"
    }
   ],
   "source": [
    "#Test set confusion.\n",
    "from sklearn.metrics import confusion_matrix\n",
    "sns.heatmap(confusion_matrix(y_test, clf.predict(X_test)), annot=True)"
   ]
  },
  {
   "cell_type": "code",
   "execution_count": 156,
   "metadata": {
    "collapsed": false
   },
   "outputs": [
    {
     "data": {
      "text/plain": [
       "array([ 0.86068702,  0.88549618,  0.8740458 ,  0.89483748,  0.88527725,\n",
       "        0.88910134,  0.89655172,  0.89655172,  0.90038314,  0.86398467])"
      ]
     },
     "execution_count": 156,
     "metadata": {},
     "output_type": "execute_result"
    }
   ],
   "source": [
    "#Cross validation performance.\n",
    "from sklearn import cross_validation\n",
    "clf = svm.SVC()\n",
    "scores = cross_validation.cross_val_score(clf, X_train, np.ravel(y_train), cv=10)\n",
    "scores"
   ]
  },
  {
   "cell_type": "code",
   "execution_count": 157,
   "metadata": {
    "collapsed": false
   },
   "outputs": [
    {
     "data": {
      "text/plain": [
       "'Accuracy: 0.8847 (+/- 0.03)'"
      ]
     },
     "execution_count": 157,
     "metadata": {},
     "output_type": "execute_result"
    }
   ],
   "source": [
    "\"Accuracy: %0.4f (+/- %0.2f)\" % (scores.mean(), scores.std() * 2)"
   ]
  },
  {
   "cell_type": "code",
   "execution_count": 119,
   "metadata": {
    "collapsed": false
   },
   "outputs": [
    {
     "data": {
      "text/plain": [
       "{'C': 1.0,\n",
       " 'cache_size': 200,\n",
       " 'class_weight': None,\n",
       " 'coef0': 0.0,\n",
       " 'decision_function_shape': None,\n",
       " 'degree': 3,\n",
       " 'gamma': 'auto',\n",
       " 'kernel': 'rbf',\n",
       " 'max_iter': -1,\n",
       " 'probability': False,\n",
       " 'random_state': None,\n",
       " 'shrinking': True,\n",
       " 'tol': 0.001,\n",
       " 'verbose': False}"
      ]
     },
     "execution_count": 119,
     "metadata": {},
     "output_type": "execute_result"
    }
   ],
   "source": [
    "#All possible hyperparameters\n",
    "clf.get_params()"
   ]
  },
  {
   "cell_type": "code",
   "execution_count": 120,
   "metadata": {
    "collapsed": false
   },
   "outputs": [],
   "source": [
    "from __future__ import print_function\n",
    "\n",
    "from sklearn import datasets\n",
    "from sklearn.cross_validation import train_test_split\n",
    "from sklearn.grid_search import GridSearchCV\n",
    "from sklearn.metrics import classification_report\n",
    "from sklearn.svm import SVC\n",
    "\n",
    "# Set the parameters by cross-validation\n",
    "# When included, didn't finish running for long time \n",
    "#{'kernel': ['linear'], 'C': [1, 10, 100, 1000]}\n",
    "\n",
    "tuned_parameters = [{'kernel': ['rbf'], 'gamma': [1e-2, 1e-3, 1e-4, 1e-5],\n",
    "                     'C': [1, 10, 50, 100, 1000]}]\n",
    "\n",
    "scores = ['precision', 'recall']\n",
    "\n"
   ]
  },
  {
   "cell_type": "code",
   "execution_count": 121,
   "metadata": {
    "collapsed": false,
    "scrolled": true
   },
   "outputs": [
    {
     "name": "stdout",
     "output_type": "stream",
     "text": [
      "# Tuning hyper-parameters for precision\n",
      "\n",
      "Best parameters set found on development set:\n",
      "\n",
      "{'C': 50, 'gamma': 0.001, 'kernel': 'rbf'}\n",
      "\n",
      "Grid scores on development set:\n",
      "\n",
      "0.940 (+/-0.018) for {'C': 1, 'gamma': 0.01, 'kernel': 'rbf'}\n",
      "0.932 (+/-0.025) for {'C': 1, 'gamma': 0.001, 'kernel': 'rbf'}\n",
      "0.915 (+/-0.019) for {'C': 1, 'gamma': 0.0001, 'kernel': 'rbf'}\n",
      "0.602 (+/-0.003) for {'C': 1, 'gamma': 1e-05, 'kernel': 'rbf'}\n",
      "0.938 (+/-0.015) for {'C': 10, 'gamma': 0.01, 'kernel': 'rbf'}\n",
      "0.939 (+/-0.022) for {'C': 10, 'gamma': 0.001, 'kernel': 'rbf'}\n",
      "0.933 (+/-0.022) for {'C': 10, 'gamma': 0.0001, 'kernel': 'rbf'}\n",
      "0.916 (+/-0.018) for {'C': 10, 'gamma': 1e-05, 'kernel': 'rbf'}\n",
      "0.932 (+/-0.023) for {'C': 50, 'gamma': 0.01, 'kernel': 'rbf'}\n",
      "0.941 (+/-0.020) for {'C': 50, 'gamma': 0.001, 'kernel': 'rbf'}\n",
      "0.938 (+/-0.022) for {'C': 50, 'gamma': 0.0001, 'kernel': 'rbf'}\n",
      "0.927 (+/-0.014) for {'C': 50, 'gamma': 1e-05, 'kernel': 'rbf'}\n",
      "0.930 (+/-0.022) for {'C': 100, 'gamma': 0.01, 'kernel': 'rbf'}\n",
      "0.940 (+/-0.022) for {'C': 100, 'gamma': 0.001, 'kernel': 'rbf'}\n",
      "0.940 (+/-0.022) for {'C': 100, 'gamma': 0.0001, 'kernel': 'rbf'}\n",
      "0.933 (+/-0.022) for {'C': 100, 'gamma': 1e-05, 'kernel': 'rbf'}\n",
      "0.920 (+/-0.036) for {'C': 1000, 'gamma': 0.01, 'kernel': 'rbf'}\n",
      "0.931 (+/-0.022) for {'C': 1000, 'gamma': 0.001, 'kernel': 'rbf'}\n",
      "0.940 (+/-0.019) for {'C': 1000, 'gamma': 0.0001, 'kernel': 'rbf'}\n",
      "0.940 (+/-0.022) for {'C': 1000, 'gamma': 1e-05, 'kernel': 'rbf'}\n",
      "\n",
      "Detailed classification report:\n",
      "\n",
      "The model is trained on the full development set.\n",
      "The scores are computed on the full evaluation set.\n",
      "\n",
      "             precision    recall  f1-score   support\n",
      "\n",
      "        0.0       0.97      0.79      0.87       455\n",
      "        1.0       0.94      0.99      0.96      1475\n",
      "\n",
      "avg / total       0.94      0.94      0.94      1930\n",
      "\n",
      "\n",
      "# Tuning hyper-parameters for recall\n",
      "\n"
     ]
    },
    {
     "name": "stderr",
     "output_type": "stream",
     "text": [
      "/Users/tu/anaconda/lib/python3.4/site-packages/sklearn/metrics/classification.py:1074: UndefinedMetricWarning: Precision is ill-defined and being set to 0.0 in labels with no predicted samples.\n",
      "  'precision', 'predicted', average, warn_for)\n",
      "/Users/tu/anaconda/lib/python3.4/site-packages/sklearn/metrics/classification.py:1074: UndefinedMetricWarning: Precision is ill-defined and being set to 0.0 in labels with no predicted samples.\n",
      "  'precision', 'predicted', average, warn_for)\n",
      "/Users/tu/anaconda/lib/python3.4/site-packages/sklearn/metrics/classification.py:1074: UndefinedMetricWarning: Precision is ill-defined and being set to 0.0 in labels with no predicted samples.\n",
      "  'precision', 'predicted', average, warn_for)\n",
      "/Users/tu/anaconda/lib/python3.4/site-packages/sklearn/metrics/classification.py:1074: UndefinedMetricWarning: Precision is ill-defined and being set to 0.0 in labels with no predicted samples.\n",
      "  'precision', 'predicted', average, warn_for)\n",
      "/Users/tu/anaconda/lib/python3.4/site-packages/sklearn/metrics/classification.py:1074: UndefinedMetricWarning: Precision is ill-defined and being set to 0.0 in labels with no predicted samples.\n",
      "  'precision', 'predicted', average, warn_for)\n"
     ]
    },
    {
     "name": "stdout",
     "output_type": "stream",
     "text": [
      "Best parameters set found on development set:\n",
      "\n",
      "{'C': 50, 'gamma': 0.001, 'kernel': 'rbf'}\n",
      "\n",
      "Grid scores on development set:\n",
      "\n",
      "0.939 (+/-0.018) for {'C': 1, 'gamma': 0.01, 'kernel': 'rbf'}\n",
      "0.930 (+/-0.027) for {'C': 1, 'gamma': 0.001, 'kernel': 'rbf'}\n",
      "0.908 (+/-0.017) for {'C': 1, 'gamma': 0.0001, 'kernel': 'rbf'}\n",
      "0.776 (+/-0.002) for {'C': 1, 'gamma': 1e-05, 'kernel': 'rbf'}\n",
      "0.937 (+/-0.015) for {'C': 10, 'gamma': 0.01, 'kernel': 'rbf'}\n",
      "0.938 (+/-0.021) for {'C': 10, 'gamma': 0.001, 'kernel': 'rbf'}\n",
      "0.930 (+/-0.024) for {'C': 10, 'gamma': 0.0001, 'kernel': 'rbf'}\n",
      "0.909 (+/-0.016) for {'C': 10, 'gamma': 1e-05, 'kernel': 'rbf'}\n",
      "0.932 (+/-0.022) for {'C': 50, 'gamma': 0.01, 'kernel': 'rbf'}\n",
      "0.940 (+/-0.018) for {'C': 50, 'gamma': 0.001, 'kernel': 'rbf'}\n",
      "0.936 (+/-0.022) for {'C': 50, 'gamma': 0.0001, 'kernel': 'rbf'}\n",
      "0.923 (+/-0.015) for {'C': 50, 'gamma': 1e-05, 'kernel': 'rbf'}\n",
      "0.931 (+/-0.021) for {'C': 100, 'gamma': 0.01, 'kernel': 'rbf'}\n",
      "0.939 (+/-0.021) for {'C': 100, 'gamma': 0.001, 'kernel': 'rbf'}\n",
      "0.939 (+/-0.021) for {'C': 100, 'gamma': 0.0001, 'kernel': 'rbf'}\n",
      "0.930 (+/-0.024) for {'C': 100, 'gamma': 1e-05, 'kernel': 'rbf'}\n",
      "0.922 (+/-0.034) for {'C': 1000, 'gamma': 0.01, 'kernel': 'rbf'}\n",
      "0.932 (+/-0.021) for {'C': 1000, 'gamma': 0.001, 'kernel': 'rbf'}\n",
      "0.940 (+/-0.018) for {'C': 1000, 'gamma': 0.0001, 'kernel': 'rbf'}\n",
      "0.939 (+/-0.021) for {'C': 1000, 'gamma': 1e-05, 'kernel': 'rbf'}\n",
      "\n",
      "Detailed classification report:\n",
      "\n",
      "The model is trained on the full development set.\n",
      "The scores are computed on the full evaluation set.\n",
      "\n",
      "             precision    recall  f1-score   support\n",
      "\n",
      "        0.0       0.97      0.79      0.87       455\n",
      "        1.0       0.94      0.99      0.96      1475\n",
      "\n",
      "avg / total       0.94      0.94      0.94      1930\n",
      "\n",
      "\n"
     ]
    }
   ],
   "source": [
    "for score in scores:\n",
    "    print(\"# Tuning hyper-parameters for %s\" % score)\n",
    "    print()\n",
    "\n",
    "    clf = GridSearchCV(SVC(C=1), tuned_parameters, cv=5, n_jobs=4,\n",
    "                       scoring='%s_weighted' % score)\n",
    "    clf.fit(X_train, np.ravel(y_train))\n",
    "\n",
    "    print(\"Best parameters set found on development set:\")\n",
    "    print()\n",
    "    print(clf.best_params_)\n",
    "    print()\n",
    "    print(\"Grid scores on development set:\")\n",
    "    print()\n",
    "    for params, mean_score, scores in clf.grid_scores_:\n",
    "        print(\"%0.3f (+/-%0.03f) for %r\"\n",
    "              % (mean_score, scores.std() * 2, params))\n",
    "    print()\n",
    "\n",
    "    print(\"Detailed classification report:\")\n",
    "    print()\n",
    "    print(\"The model is trained on the full development set.\")\n",
    "    print(\"The scores are computed on the full evaluation set.\")\n",
    "    print()\n",
    "    y_true, y_pred = y_test, clf.predict(X_test)\n",
    "    print(classification_report(y_true, y_pred))\n",
    "    print()\n"
   ]
  },
  {
   "cell_type": "code",
   "execution_count": null,
   "metadata": {
    "collapsed": true
   },
   "outputs": [],
   "source": []
  }
 ],
 "metadata": {
  "kernelspec": {
   "display_name": "Python 3",
   "language": "python",
   "name": "python3"
  },
  "language_info": {
   "codemirror_mode": {
    "name": "ipython",
    "version": 3
   },
   "file_extension": ".py",
   "mimetype": "text/x-python",
   "name": "python",
   "nbconvert_exporter": "python",
   "pygments_lexer": "ipython3",
   "version": "3.4.3"
  }
 },
 "nbformat": 4,
 "nbformat_minor": 0
}
