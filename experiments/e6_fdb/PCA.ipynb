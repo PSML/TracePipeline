{
 "cells": [
  {
   "cell_type": "code",
   "execution_count": 51,
   "metadata": {
    "collapsed": true
   },
   "outputs": [],
   "source": [
    "import pandas as pd\n",
    "import numpy as np\n",
    "import seaborn as sns\n",
    "from sklearn.decomposition import PCA\n",
    "\n",
    "#Bring in pre-processed data\n",
    "X_train = pd.read_csv(\"data/X_train_preproc.csv\")\n",
    "X_test  = pd.read_csv(\"data/X_test_preproc.csv\")"
   ]
  },
  {
   "cell_type": "code",
   "execution_count": 55,
   "metadata": {
    "collapsed": false
   },
   "outputs": [
    {
     "data": {
      "text/plain": [
       "((4225, 109), (4225, 81), (1057, 109), (1057, 81))"
      ]
     },
     "execution_count": 55,
     "metadata": {},
     "output_type": "execute_result"
    }
   ],
   "source": [
    "pca = PCA(n_components=81)\n",
    "X_train_r = pd.DataFrame(pca.fit_transform(X_train))\n",
    "X_test_r = pd.DataFrame(pca.transform(X_test))\n",
    "X_train.shape, X_train_r.shape, X_test.shape, X_test_r.shape,"
   ]
  },
  {
   "cell_type": "code",
   "execution_count": 56,
   "metadata": {
    "collapsed": false
   },
   "outputs": [
    {
     "name": "stdout",
     "output_type": "stream",
     "text": [
      "explained variance ratio (first two components): [ 0.23106067  0.09273552  0.05874161  0.05503853  0.03596058  0.03438049\n",
      "  0.02950097  0.02486033  0.02292892  0.02172507  0.01981201  0.01897528\n",
      "  0.01759572  0.01518636  0.01443808  0.01344012  0.01253849  0.01146021\n",
      "  0.01090219  0.01001419  0.00976568  0.00951189  0.00879941  0.00866202\n",
      "  0.00827026  0.0076357   0.00752489  0.0073835   0.00720128  0.00695149\n",
      "  0.006547    0.00641004  0.00609339  0.00579702  0.00566202  0.00551047\n",
      "  0.00544713  0.00514676  0.0050908   0.00480702  0.00467135  0.00455765\n",
      "  0.00439797  0.00430647  0.00421991  0.00402085  0.00387657  0.00375899\n",
      "  0.00357955  0.00347233  0.00334811  0.00322668  0.00315088  0.00311865\n",
      "  0.00301976  0.0029995   0.00292082  0.00274325  0.00249517  0.00236591\n",
      "  0.00225803  0.00213904  0.00207589  0.00203101  0.00196846  0.0018344\n",
      "  0.00176613  0.00164644  0.00156898  0.00154838  0.00147216  0.00136287\n",
      "  0.0013108   0.00120799  0.00107956  0.00105899  0.0010264   0.00098482\n",
      "  0.00095875  0.0009095   0.00083682]\n"
     ]
    },
    {
     "data": {
      "text/plain": [
       "0.99080887142522922"
      ]
     },
     "execution_count": 56,
     "metadata": {},
     "output_type": "execute_result"
    }
   ],
   "source": [
    "# Percentage of variance explained for each components\n",
    "print('explained variance ratio (first two components): %s'\n",
    "      % str(pca.explained_variance_ratio_))\n",
    "pca.explained_variance_ratio_.sum()"
   ]
  },
  {
   "cell_type": "code",
   "execution_count": 57,
   "metadata": {
    "collapsed": false
   },
   "outputs": [],
   "source": [
    "X_train_r.to_csv(\"data/X_train_preproc.csv\", index=False)\n",
    "X_test_r.to_csv(\"data/X_test_preproc.csv\", index=False)"
   ]
  },
  {
   "cell_type": "code",
   "execution_count": null,
   "metadata": {
    "collapsed": true
   },
   "outputs": [],
   "source": []
  }
 ],
 "metadata": {
  "kernelspec": {
   "display_name": "Python 3",
   "language": "python",
   "name": "python3"
  },
  "language_info": {
   "codemirror_mode": {
    "name": "ipython",
    "version": 3
   },
   "file_extension": ".py",
   "mimetype": "text/x-python",
   "name": "python",
   "nbconvert_exporter": "python",
   "pygments_lexer": "ipython3",
   "version": "3.4.3"
  }
 },
 "nbformat": 4,
 "nbformat_minor": 0
}
